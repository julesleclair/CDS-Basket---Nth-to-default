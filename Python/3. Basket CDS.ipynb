{
 "cells": [
  {
   "cell_type": "markdown",
   "id": "98fc1f5b",
   "metadata": {},
   "source": [
    "# Set-up"
   ]
  },
  {
   "cell_type": "markdown",
   "id": "3b37551e",
   "metadata": {},
   "source": [
    "## Import packages"
   ]
  },
  {
   "cell_type": "code",
   "execution_count": 2,
   "id": "c548f4f8",
   "metadata": {},
   "outputs": [],
   "source": [
    "import numpy as np\n",
    "import pandas as pd\n",
    "import matplotlib.pyplot as plt\n",
    "\n",
    "\n",
    "#Inverse and determinant of a matrix\n",
    "from numpy.linalg import inv, det\n",
    "\n",
    "# to time procedure\n",
    "import time\n",
    "\n",
    "# import gamma, beta incomplete inverse and beta incomplete\n",
    "from scipy.special import gamma, betaincinv, betainc\n",
    "import seaborn as sns\n",
    "%matplotlib inline"
   ]
  },
  {
   "cell_type": "markdown",
   "id": "788c26b3",
   "metadata": {},
   "source": [
    "## display settings "
   ]
  },
  {
   "cell_type": "code",
   "execution_count": 3,
   "id": "39cbd26e",
   "metadata": {},
   "outputs": [
    {
     "data": {
      "text/html": [
       "# https://stackoverflow.com/questions/49888173/python-jupyter-notebook-print-dataframe-borders\n",
       "<style type=\"text/css\">\n",
       "table.dataframe td, table.dataframe th {\n",
       "    border: 1px  black solid !important;\n",
       "  color: black !important;\n",
       "}\n",
       "</style>\n"
      ],
      "text/plain": [
       "<IPython.core.display.HTML object>"
      ]
     },
     "metadata": {},
     "output_type": "display_data"
    }
   ],
   "source": [
    "%%HTML\n",
    "# https://stackoverflow.com/questions/49888173/python-jupyter-notebook-print-dataframe-borders\n",
    "<style type=\"text/css\">\n",
    "table.dataframe td, table.dataframe th {\n",
    "    border: 1px  black solid !important;\n",
    "  color: black !important;\n",
    "}\n",
    "</style>"
   ]
  },
  {
   "cell_type": "markdown",
   "id": "8166a67e",
   "metadata": {},
   "source": [
    "## Import Data"
   ]
  },
  {
   "cell_type": "code",
   "execution_count": 4,
   "id": "86bfdbfd",
   "metadata": {},
   "outputs": [],
   "source": [
    "path = r\"..\\\\2022\\\\2. Data\\\\\"\n",
    "path_image = r\"..\\\\2022\\1. LaTeX\\\\Image\\\\\"\n",
    "\n",
    "cds_spread = pd.read_csv(path+\"20180620_snapshot.csv\").iloc[:,1:]#.set_index(\"Company\")\n",
    "# cds_5y = pd.read_csv(path+\"5YCDS.csv\").iloc[:,1:]\n",
    "#equity_daily = pd.read_csv(path + \"equity.csv\") # used to check functions\n",
    "# equity_weekly = pd.read_csv(path + \"equities_1wk.csv\")\n",
    "# equity_monthly  = pd.read_csv(path + \"equities_1mo.csv\")\n",
    "#discount = pd.read_excel(path+\"20180620_DiscountFactor.xlsx\").iloc[:,1:]\n",
    "discounts = pd.read_csv(path+\"20180620_DiscountFactor_bloomberg_interpolated.csv\").iloc[:,1:]\n",
    "\n",
    "\n",
    "names = [\"AAL\", \"ALLY\", \"AMD\", \"AMKR\", \"F\"]\n",
    "cds_spread.index = names\n",
    "\n",
    "#Pseudo samples from Matlab\n",
    "u_hat = pd.read_csv(path+\"Pseudo_samples.csv\").iloc[:,1:]"
   ]
  },
  {
   "cell_type": "markdown",
   "id": "7d351fbe",
   "metadata": {},
   "source": [
    "### ZCB\n",
    "Define a zcb function"
   ]
  },
  {
   "cell_type": "code",
   "execution_count": 5,
   "id": "4a4e09b1",
   "metadata": {},
   "outputs": [],
   "source": [
    "def zcb(T):\n",
    "    \"\"\"\n",
    "    input : T: Scalar : Maturity\n",
    "    -----------------------------\n",
    "    Output: Zero Coupon Bond <==> Discount Factor\n",
    "    -----------------------------\n",
    "    NB: in this case, t: 0. \n",
    "    Therefore, there is no need to explicitly call it. \n",
    "\n",
    "    \"\"\"\n",
    "    if T > np.max(discounts.loc[:,\"T\"]):\n",
    "        return np.min(discounts.loc[:,\"DF\"])\n",
    "    return linear_interpolation(discounts.loc[:,\"T\"], discounts.loc[:,\"DF\"],T)"
   ]
  },
  {
   "cell_type": "code",
   "execution_count": 6,
   "id": "2e9ba9bd",
   "metadata": {},
   "outputs": [
    {
     "data": {
      "text/plain": [
       "<matplotlib.legend.Legend at 0x163ff87c610>"
      ]
     },
     "execution_count": 6,
     "metadata": {},
     "output_type": "execute_result"
    },
    {
     "data": {
      "image/png": "[encoded data removed]",
      "text/plain": [
       "<Figure size 432x288 with 1 Axes>"
      ]
     },
     "metadata": {
      "needs_background": "light"
     },
     "output_type": "display_data"
    }
   ],
   "source": [
    "for i in names:\n",
    "    plt.plot(cds_spread.columns, cds_spread.loc[i, :], label=i)\n",
    "\n",
    "plt.xlabel(\"Years\")\n",
    "plt.xlim(1,10)\n",
    "plt.ylabel(\"Spread\")\n",
    "plt.ylim(30,500)\n",
    "plt.legend()\n",
    "#plt.savefig(path_image+'CDS Spreads.png')"
   ]
  },
  {
   "cell_type": "code",
   "execution_count": 7,
   "id": "e445cc82",
   "metadata": {},
   "outputs": [
    {
     "data": {
      "text/html": [
       "<div>\n",
       "<style scoped>\n",
       "    .dataframe tbody tr th:only-of-type {\n",
       "        vertical-align: middle;\n",
       "    }\n",
       "\n",
       "    .dataframe tbody tr th {\n",
       "        vertical-align: top;\n",
       "    }\n",
       "\n",
       "    .dataframe thead th {\n",
       "        text-align: right;\n",
       "    }\n",
       "</style>\n",
       "<table border=\"1\" class=\"dataframe\">\n",
       "  <thead>\n",
       "    <tr style=\"text-align: right;\">\n",
       "      <th></th>\n",
       "      <th>0.0</th>\n",
       "      <th>1.0</th>\n",
       "      <th>2.0</th>\n",
       "      <th>3.0</th>\n",
       "      <th>4.0</th>\n",
       "      <th>5.0</th>\n",
       "      <th>6.0</th>\n",
       "      <th>7.0</th>\n",
       "      <th>8.0</th>\n",
       "      <th>9.0</th>\n",
       "      <th>10.0</th>\n",
       "    </tr>\n",
       "  </thead>\n",
       "  <tbody>\n",
       "    <tr>\n",
       "      <th>AAL</th>\n",
       "      <td>0.0</td>\n",
       "      <td>69.09</td>\n",
       "      <td>120.720</td>\n",
       "      <td>172.35</td>\n",
       "      <td>262.375</td>\n",
       "      <td>352.40</td>\n",
       "      <td>388.230</td>\n",
       "      <td>424.06</td>\n",
       "      <td>441.153333</td>\n",
       "      <td>458.246667</td>\n",
       "      <td>475.34</td>\n",
       "    </tr>\n",
       "    <tr>\n",
       "      <th>ALLY</th>\n",
       "      <td>0.0</td>\n",
       "      <td>38.51</td>\n",
       "      <td>60.035</td>\n",
       "      <td>81.56</td>\n",
       "      <td>109.500</td>\n",
       "      <td>137.44</td>\n",
       "      <td>157.560</td>\n",
       "      <td>177.68</td>\n",
       "      <td>182.790000</td>\n",
       "      <td>187.900000</td>\n",
       "      <td>193.01</td>\n",
       "    </tr>\n",
       "    <tr>\n",
       "      <th>AMD</th>\n",
       "      <td>0.0</td>\n",
       "      <td>40.85</td>\n",
       "      <td>58.695</td>\n",
       "      <td>76.54</td>\n",
       "      <td>109.495</td>\n",
       "      <td>142.45</td>\n",
       "      <td>169.780</td>\n",
       "      <td>197.11</td>\n",
       "      <td>204.640000</td>\n",
       "      <td>212.170000</td>\n",
       "      <td>219.70</td>\n",
       "    </tr>\n",
       "    <tr>\n",
       "      <th>AMKR</th>\n",
       "      <td>0.0</td>\n",
       "      <td>44.94</td>\n",
       "      <td>77.475</td>\n",
       "      <td>110.01</td>\n",
       "      <td>161.355</td>\n",
       "      <td>212.70</td>\n",
       "      <td>270.015</td>\n",
       "      <td>327.33</td>\n",
       "      <td>333.113333</td>\n",
       "      <td>338.896667</td>\n",
       "      <td>344.68</td>\n",
       "    </tr>\n",
       "    <tr>\n",
       "      <th>F</th>\n",
       "      <td>0.0</td>\n",
       "      <td>30.30</td>\n",
       "      <td>43.040</td>\n",
       "      <td>55.78</td>\n",
       "      <td>91.015</td>\n",
       "      <td>126.25</td>\n",
       "      <td>155.880</td>\n",
       "      <td>185.51</td>\n",
       "      <td>189.670000</td>\n",
       "      <td>193.830000</td>\n",
       "      <td>197.99</td>\n",
       "    </tr>\n",
       "  </tbody>\n",
       "</table>\n",
       "</div>"
      ],
      "text/plain": [
       "      0.0    1.0      2.0     3.0      4.0     5.0      6.0     7.0  \\\n",
       "AAL   0.0  69.09  120.720  172.35  262.375  352.40  388.230  424.06   \n",
       "ALLY  0.0  38.51   60.035   81.56  109.500  137.44  157.560  177.68   \n",
       "AMD   0.0  40.85   58.695   76.54  109.495  142.45  169.780  197.11   \n",
       "AMKR  0.0  44.94   77.475  110.01  161.355  212.70  270.015  327.33   \n",
       "F     0.0  30.30   43.040   55.78   91.015  126.25  155.880  185.51   \n",
       "\n",
       "             8.0         9.0    10.0  \n",
       "AAL   441.153333  458.246667  475.34  \n",
       "ALLY  182.790000  187.900000  193.01  \n",
       "AMD   204.640000  212.170000  219.70  \n",
       "AMKR  333.113333  338.896667  344.68  \n",
       "F     189.670000  193.830000  197.99  "
      ]
     },
     "execution_count": 7,
     "metadata": {},
     "output_type": "execute_result"
    }
   ],
   "source": [
    "cds_spread"
   ]
  },
  {
   "cell_type": "code",
   "execution_count": 8,
   "id": "42922149",
   "metadata": {},
   "outputs": [],
   "source": [
    "# We only need the first 5 years for our purpose\n",
    "cds_spread = cds_spread.iloc[:,:6]"
   ]
  },
  {
   "cell_type": "code",
   "execution_count": null,
   "id": "a15225f9",
   "metadata": {},
   "outputs": [],
   "source": []
  },
  {
   "cell_type": "markdown",
   "id": "eb1c3fa5",
   "metadata": {},
   "source": [
    "## Constants"
   ]
  },
  {
   "cell_type": "code",
   "execution_count": null,
   "id": "47206064",
   "metadata": {},
   "outputs": [],
   "source": []
  },
  {
   "cell_type": "code",
   "execution_count": 10,
   "id": "e0571f59",
   "metadata": {},
   "outputs": [
    {
     "data": {
      "text/plain": [
       "3.141592653589793"
      ]
     },
     "execution_count": 10,
     "metadata": {},
     "output_type": "execute_result"
    }
   ],
   "source": [
    "# Value of pi taken from: \n",
    "# http://www.math.com/tables/constants/pi.htm#:~:text=3.1415926535%208979323846%202643383279%205028841971%206939937510%205820974944%205923078164%200628620899%208628034825%203421170679%20...&text=PI%2F4%20%3D%201%2F1,1%2F7%20%2B%20...&text=PI%2F2%20%3D%202%2F1,6%2F7%20*%20...\n",
    "pi = 3.1415926535897932384626433832795028841971693993751058209749445923078164\n",
    "pi"
   ]
  },
  {
   "cell_type": "code",
   "execution_count": 11,
   "id": "02e1822b",
   "metadata": {},
   "outputs": [
    {
     "data": {
      "text/plain": [
       "2.718281828459045"
      ]
     },
     "execution_count": 11,
     "metadata": {},
     "output_type": "execute_result"
    }
   ],
   "source": [
    "# value of e taken from:\n",
    "# https://www.math.utah.edu/~pa/math/e.html\n",
    "e = 2.7182818284590452353602874713526624977572470936999595749669676277240766\n",
    "e"
   ]
  },
  {
   "cell_type": "code",
   "execution_count": null,
   "id": "261051ef",
   "metadata": {},
   "outputs": [],
   "source": []
  },
  {
   "cell_type": "markdown",
   "id": "3a1027e4",
   "metadata": {},
   "source": [
    "## Functions"
   ]
  },
  {
   "cell_type": "markdown",
   "id": "4fb128ac",
   "metadata": {},
   "source": [
    "Defining a function for a standard normal distribution make the calculation more efficient. \n",
    "\n",
    "\n",
    "(i.e. Python does not need to input a value for $\\mu$ and $\\sigma$ as they are defined by 0 and 1 respectively)"
   ]
  },
  {
   "cell_type": "markdown",
   "id": "2349eb47",
   "metadata": {},
   "source": [
    "### Gaussian"
   ]
  },
  {
   "cell_type": "markdown",
   "id": "7cfaea18",
   "metadata": {},
   "source": [
    "#### Norm pdf"
   ]
  },
  {
   "cell_type": "code",
   "execution_count": 12,
   "id": "a5e0f33a",
   "metadata": {},
   "outputs": [],
   "source": [
    "def norm_pdf(x):\n",
    "    \"\"\"\n",
    "    Standard normal probability density function\n",
    "    \"\"\"\n",
    "    return (1.0/((2*pi)**0.5))*np.exp(-0.5*x**2)"
   ]
  },
  {
   "cell_type": "markdown",
   "id": "4aafbb4f",
   "metadata": {},
   "source": [
    "#### Norm cdf"
   ]
  },
  {
   "cell_type": "code",
   "execution_count": null,
   "id": "3b773a8d",
   "metadata": {},
   "outputs": [],
   "source": []
  },
  {
   "cell_type": "code",
   "execution_count": 13,
   "id": "592816fb",
   "metadata": {},
   "outputs": [],
   "source": [
    "def norm_cdf(x):\n",
    "    \"\"\"\n",
    "    Norm CDF function # Wilmott Magazine, p 70-76, May 2005 # Graeme West\n",
    "    Hart (1968)\n",
    "    \"\"\"\n",
    "    x_abs = abs(x)\n",
    "    \n",
    "    if x_abs > 37:\n",
    "        norm_cdf = 0\n",
    "    else:\n",
    "        exp_abs = e**(-0.5*x_abs**2)\n",
    "        \n",
    "        if x_abs < 7.07106781186547:\n",
    "            k_temp = 3.52624965998911E-02 * x_abs + 0.700383064443688\n",
    "            k_temp = k_temp * x_abs + 6.37396220353165\n",
    "            k_temp = k_temp * x_abs + 33.912866078383\n",
    "            k_temp = k_temp * x_abs + 112.079291497871\n",
    "            k_temp = k_temp * x_abs + 221.213596169931\n",
    "            k_temp = k_temp * x_abs + 220.206867912376\n",
    "            \n",
    "            \n",
    "            norm_cdf = exp_abs * k_temp        \n",
    "            \n",
    "            \n",
    "            k_temp = 8.83883476483184E-02 * x_abs + 1.75566716318264\n",
    "            k_temp = k_temp * x_abs + 16.064177579207\n",
    "            k_temp = k_temp * x_abs + 86.7807322029461\n",
    "            k_temp = k_temp * x_abs + 296.564248779674\n",
    "            k_temp = k_temp * x_abs + 637.333633378831\n",
    "            k_temp = k_temp * x_abs + 793.826512519948\n",
    "            k_temp = k_temp * x_abs + 440.413735824752\n",
    "            norm_cdf = norm_cdf / k_temp\n",
    "            \n",
    "            \n",
    "            \n",
    "        else:\n",
    "            k_temp = x_abs + 0.65\n",
    "            k_temp = x_abs + 4 / k_temp\n",
    "            k_temp = x_abs + 3 / k_temp\n",
    "            k_temp = x_abs + 2 / k_temp\n",
    "            k_temp = x_abs + 1 / k_temp\n",
    "            norm_cdf = exp_abs / k_temp / 2.506628274631\n",
    "\n",
    "    if x > 0:\n",
    "        norm_cdf = 1 - norm_cdf\n",
    "\n",
    "    return norm_cdf\n",
    "    "
   ]
  },
  {
   "cell_type": "markdown",
   "id": "5e43c977",
   "metadata": {},
   "source": [
    "##### Vectorisation\n",
    "\n",
    "The vectorize function is provided primarily for convenience, not for performance. The implementation is essentially a for loop.\n",
    "\n",
    "\n",
    "https://numpy.org/doc/stable/reference/generated/numpy.vectorize.html"
   ]
  },
  {
   "cell_type": "code",
   "execution_count": 14,
   "id": "543f5e3e",
   "metadata": {},
   "outputs": [],
   "source": [
    "# vectorise norm_cdf function\n",
    "norm_cdf_v = np.vectorize(norm_cdf)"
   ]
  },
  {
   "cell_type": "markdown",
   "id": "ad01fef8",
   "metadata": {},
   "source": [
    "#### Norm Inv"
   ]
  },
  {
   "cell_type": "code",
   "execution_count": 15,
   "id": "0a2e6dd7",
   "metadata": {},
   "outputs": [],
   "source": [
    "def norm_inv(p):\n",
    "#   Onverse normal algorithm developed by\n",
    "#   P. J. Acklam.  It is accurate to 1.15E-9.\n",
    "#   Could not find the original paper online. # Website link does not exist anymore. \n",
    "#   Used this as a reference. https://stackedboxes.org/2017/05/01/acklams-normal-quantile-function/\n",
    "\n",
    "    #Define constants\n",
    "    a1  = -39.6968302866538   \n",
    "    a2  = 220.946098424521     \n",
    "    a3  = -275.928510446969    \n",
    "    a4  = 138.357751867269     \n",
    "    a5  = -30.6647980661472    \n",
    "    a6  = 2.50662827745924    \n",
    "    \n",
    "    b1  = -54.4760987982241     \n",
    "    b2  = 161.585836858041     \n",
    "    b3  = -155.698979859887    \n",
    "    b4  = 66.8013118877197     \n",
    "    b5  = -13.2806815528857    \n",
    "    \n",
    "    c1  = -7.78489400243029*10**(-3) \n",
    "    c2  = -0.322396458041136    \n",
    "    c3  = -2.40075827716184     \n",
    "    c4  = -2.54973253934373    \n",
    "    c5  = 4.37466414146497      \n",
    "    c6  = 2.93816398269878      \n",
    "    \n",
    "    d1  = 7.78469570904146*10**(-3)  \n",
    "    d2  = 0.32246712907004      \n",
    "    d3  = 2.445134137143        \n",
    "    d4  = 3.75440866190742 \n",
    "    \n",
    "    #Define break points\n",
    "    p_lower  = 0.02425 # lower bound\n",
    "    p_upper  = 1 - p_lower  # upper bound\n",
    "    \n",
    "    \n",
    "    if (0 < p < p_lower): #Rational approximation for lower region\n",
    "        q = (-2 * np.log(p))**0.5\n",
    "        norm_inverse = (((((c1 * q + c2) * q + c3) * q + c4) * q + c5) * q + c6) / ((((d1 * q + d2) * q + d3) * q + d4) * q + 1)\n",
    "        \n",
    "    elif (p_lower <p< p_upper): #Rational approximation for central region\n",
    "        q = p - 0.5\n",
    "        r = q * q\n",
    "        norm_inverse = (((((a1 * r + a2) * r + a3) * r + a4) * r + a5) * r + a6) * q /(((((b1 * r + b2) * r + b3) * r + b4) * r + b5) * r + 1)\n",
    "    elif (p_upper < p) and (p < 1): #Rational approximation for upper region\n",
    "        q = (-2 * np.log(1 - p))**0.5\n",
    "        norm_inverse = -(((((c1 * q + c2) * q + c3) * q + c4) * q + c5) * q + c6) /((((d1 * q + d2) * q + d3) * q + d4) * q + 1)\n",
    "    else: #Out of valid region\n",
    "        norm_inverse = np.log(-1) #invalid value\n",
    "\n",
    "        \n",
    "    return norm_inverse"
   ]
  },
  {
   "cell_type": "code",
   "execution_count": 16,
   "id": "74816c99",
   "metadata": {},
   "outputs": [],
   "source": [
    "# vectorise norm_cdf function\n",
    "norm_inv_v = np.vectorize(norm_inv)"
   ]
  },
  {
   "cell_type": "markdown",
   "id": "4ef6283b",
   "metadata": {},
   "source": [
    "### t-student"
   ]
  },
  {
   "cell_type": "markdown",
   "id": "4e98d5cd",
   "metadata": {},
   "source": [
    "#### Beta functions"
   ]
  },
  {
   "cell_type": "code",
   "execution_count": 17,
   "id": "0a3a9570",
   "metadata": {},
   "outputs": [],
   "source": [
    "def beta(a,b):\n",
    "     \n",
    "    '''\n",
    "    uses gamma function  to compute values of beta function\n",
    "    ------------------------------------\n",
    "    source: https://docs.scipy.org/doc/scipy/reference/generated/scipy.special.beta.html\n",
    "    '''\n",
    "     \n",
    "    return gamma(a)*gamma(b)/gamma(a+b)\n",
    "    "
   ]
  },
  {
   "cell_type": "code",
   "execution_count": 18,
   "id": "011e03c2",
   "metadata": {},
   "outputs": [],
   "source": [
    "def beta_inc_lower(a,b,x):\n",
    "    \n",
    "    \"\"\"\n",
    "    lower incomplete beta function: \n",
    "    require: scipy.special.betainc \n",
    "    -------------------------------\n",
    "    https://mathworld.wolfram.com/IncompleteBetaFunction.html\n",
    "    \"\"\"\n",
    "\n",
    "    return betainc(a,b,x)* beta(a,b)\n",
    "    \n"
   ]
  },
  {
   "cell_type": "code",
   "execution_count": null,
   "id": "d14978fb",
   "metadata": {},
   "outputs": [],
   "source": []
  },
  {
   "cell_type": "code",
   "execution_count": null,
   "id": "7f503736",
   "metadata": {},
   "outputs": [],
   "source": []
  },
  {
   "cell_type": "markdown",
   "id": "65201f2a",
   "metadata": {},
   "source": [
    "#### PDF"
   ]
  },
  {
   "cell_type": "code",
   "execution_count": 19,
   "id": "6d32ed5d",
   "metadata": {},
   "outputs": [],
   "source": [
    "def t_student_pdf(t, nu):\n",
    "    a = (nu+1)/2\n",
    "    \n",
    "    return gamma(a)/(np.sqrt(nu*pi)*gamma(nu/2))*(1+t**2/nu)**(-a)"
   ]
  },
  {
   "cell_type": "markdown",
   "id": "6817abff",
   "metadata": {},
   "source": [
    "#### CDF"
   ]
  },
  {
   "cell_type": "code",
   "execution_count": 20,
   "id": "059fba82",
   "metadata": {},
   "outputs": [],
   "source": [
    "def t_student_cdf(x, nu):\n",
    "    \n",
    "    \"\"\"\n",
    "    t_student cdf:\n",
    "    ------------------------\n",
    "    input: x : nx1 array\n",
    "           ny: degree of freedom \n",
    "    \"\"\"\n",
    "    \n",
    "    x = np.array(x)\n",
    "    x = x.reshape(-1,1)\n",
    "    c = nu / (nu+x**2)  \n",
    "    #cdf =  0.5 * rl_beta_inc(nu/2, 0.5, c)\n",
    "    cdf =  0.5 * betainc(nu/2, 0.5, c)\n",
    "    \n",
    "    # psi(x) = 1-psi(-x)\n",
    "    # please note x**2 = (-x)**2\n",
    "    # hence we can just return 1-cdf\n",
    "    cdf = cdf.T\n",
    "    return np.select(x.T <=np.zeros_like(x.T), cdf, 1-cdf).T\n",
    "#     if x <=0:\n",
    "#         return cdf\n",
    "#     else: \n",
    "#         return 1-cdf"
   ]
  },
  {
   "cell_type": "markdown",
   "id": "f8ce98b2",
   "metadata": {},
   "source": [
    "#### Inverse"
   ]
  },
  {
   "cell_type": "code",
   "execution_count": 21,
   "id": "94572659",
   "metadata": {},
   "outputs": [],
   "source": [
    "def t_student_inv(p, nu):\n",
    "    \"\"\"\n",
    "    input: nx1 array\n",
    "           nu: scalar: degree of freedom\n",
    "    ----------------------------------------\n",
    "    output: nx1 array\n",
    "    ----------------------------------------\n",
    "    Source: MyTINV p17: T COPULA and degrees of freedom \\nu (MLE PROCEDURE GUIDE)\n",
    "    \n",
    "    Formula coherent with \n",
    "    https://www.wolframalpha.com/input/?i=inverse+cdf+student%27s+t+distribution    \n",
    "    \"\"\"\n",
    "    p = np.array(p).reshape(-1,1)\n",
    "    \n",
    "        \n",
    "        \n",
    "    var = np.minimum(p, 1-p)\n",
    "    temp = betaincinv( nu/2, 0.5, 2*var)\n",
    "    try:\n",
    "        temp = 1/temp\n",
    "    except (RuntimeError, RuntimeWarning):\n",
    "        print(\"Oops!  Dividing by 0 !?\")\n",
    "        temp =np.inf\n",
    "    \n",
    "    x = np.sign(p-0.5)*(nu*(temp-1))**0.5\n",
    "    return x"
   ]
  },
  {
   "cell_type": "markdown",
   "id": "706a3da0",
   "metadata": {},
   "source": [
    "#### Check"
   ]
  },
  {
   "cell_type": "markdown",
   "id": "5830c317",
   "metadata": {},
   "source": [
    "Import t module from scipy.stats to check if function correcly implemented"
   ]
  },
  {
   "cell_type": "code",
   "execution_count": 23,
   "id": "2b12a922",
   "metadata": {},
   "outputs": [],
   "source": [
    "from scipy.stats import t"
   ]
  },
  {
   "cell_type": "code",
   "execution_count": 24,
   "id": "39a3196b",
   "metadata": {},
   "outputs": [],
   "source": [
    "f1 = lambda x, nu: t.pdf(x,nu) - t_student_pdf(x, nu)\n",
    "f2 = lambda x, nu: t.cdf(x,nu) - t_student_cdf(x, nu)\n",
    "f3 = lambda x, nu: t.ppf(x,nu) - t_student_inv(x, nu)"
   ]
  },
  {
   "cell_type": "code",
   "execution_count": 25,
   "id": "e7c4dd7e",
   "metadata": {},
   "outputs": [
    {
     "name": "stdout",
     "output_type": "stream",
     "text": [
      "Sum error squared of pdf:  2.9783872658070345e-27\n"
     ]
    }
   ],
   "source": [
    "error_pdf = 0.0\n",
    "for i in np.arange(-3,3, 0.001):\n",
    "    for j in range(1,25):\n",
    "        error_pdf+=f1(i,j)**2\n",
    "print(\"Sum error squared of pdf: \", error_pdf)"
   ]
  },
  {
   "cell_type": "code",
   "execution_count": 26,
   "id": "ea30c724",
   "metadata": {},
   "outputs": [
    {
     "name": "stdout",
     "output_type": "stream",
     "text": [
      "Sum error squared of cdf:  [[-2.29502875e-12]]\n"
     ]
    }
   ],
   "source": [
    "error_cdf = 0.0\n",
    "for i in np.arange(-2,2, 0.001):\n",
    "    for j in range(1,25):\n",
    "        error_cdf+=f2(i,j)\n",
    "print(\"Sum error squared of cdf: \", error_cdf)"
   ]
  },
  {
   "cell_type": "code",
   "execution_count": 27,
   "id": "cca7d253",
   "metadata": {},
   "outputs": [
    {
     "name": "stdout",
     "output_type": "stream",
     "text": [
      "Sum error squared of cdf:  [[1.17279148e-14]]\n"
     ]
    }
   ],
   "source": [
    "error_ppf = 0.0\n",
    "for i in np.arange(0.001,0.999, 0.001):\n",
    "    for j in range(1,25):\n",
    "        error_ppf+=f3(i,j)**2\n",
    "print(\"Sum error squared of cdf: \", error_ppf)"
   ]
  },
  {
   "cell_type": "markdown",
   "id": "7bac3ca6",
   "metadata": {},
   "source": [
    "Error is within an acceptable margin.  <br>\n",
    "We can now remove t module"
   ]
  },
  {
   "cell_type": "code",
   "execution_count": 28,
   "id": "2608ff8f",
   "metadata": {},
   "outputs": [],
   "source": [
    "del t, f1,f2,f3"
   ]
  },
  {
   "cell_type": "markdown",
   "id": "fc53c35a",
   "metadata": {},
   "source": [
    "### Correlation\n",
    "\n"
   ]
  },
  {
   "cell_type": "markdown",
   "id": "e51d9af5",
   "metadata": {},
   "source": [
    "#### Pearson's rho"
   ]
  },
  {
   "cell_type": "code",
   "execution_count": 22,
   "id": "8f6a5a31",
   "metadata": {},
   "outputs": [],
   "source": [
    "def pearson_rho(x,y):\n",
    "    \n",
    "    \"\"\"\n",
    "    Pearson rho Correlation\n",
    "    \"\"\"\n",
    "    \n",
    "    x = np.array(x).flatten()\n",
    "    y = np.array(y).flatten()\n",
    "\n",
    "    # numérateur: using dot product to sum for each i\n",
    "    num = (x-x.mean()).dot(y-y.mean()) \n",
    "\n",
    "    \n",
    "    den = (sum((x-x.mean())**2)*sum((y-y.mean())**2))**0.5\n",
    "    \n",
    "    return num/den"
   ]
  },
  {
   "cell_type": "markdown",
   "id": "0c2591ec",
   "metadata": {},
   "source": [
    "#### Kendall's tau"
   ]
  },
  {
   "cell_type": "code",
   "execution_count": 23,
   "id": "33962e2f",
   "metadata": {},
   "outputs": [],
   "source": [
    "def kendall_tau(x,y):\n",
    "\n",
    "    \"\"\"\n",
    "    kendall_tau b implementation - take into account \"tie\"\n",
    "    Maurice G. Kendall, “The treatment of ties in ranking problems”,\n",
    "    Biometrika Vol. 33, No. 3, pp. 239-251. 1945.\n",
    "    \"\"\"\n",
    "    \n",
    "    x = np.array(x)\n",
    "    y = np.array(y)\n",
    "\n",
    "    C = 0 # concordant pairs\n",
    "    D = 0 # discordant pairs\n",
    "    tie_x = 0 # tie in x array\n",
    "    tie_y =0 # tie in y array\n",
    "\n",
    "    n = len(x)\n",
    "    for i in range(1,n):\n",
    "        for j in range(i):\n",
    "            if (x[i] < x[j] and y[i] < y[j]) or (x[i] > x[j] and y[i] > y[j]):\n",
    "                C+=1\n",
    "            elif x[i]==x[j]:\n",
    "                tie_x +=1\n",
    "            elif y[i] == y[j]:\n",
    "                tie_y +=1\n",
    "            elif (x[i]> x[j] and y[i]<y[j]) or (x[i]<x[j] and y[i]>y[j]):\n",
    "                D+=1\n",
    "\n",
    "    tau_b = (C-D) / np.sqrt((C+D+tie_x) * (C+D +tie_y))\n",
    "    return tau_b"
   ]
  },
  {
   "cell_type": "code",
   "execution_count": null,
   "id": "a0b42394",
   "metadata": {},
   "outputs": [],
   "source": []
  },
  {
   "cell_type": "markdown",
   "id": "bac9f9de",
   "metadata": {},
   "source": [
    "#### Spearman's rho"
   ]
  },
  {
   "cell_type": "code",
   "execution_count": 24,
   "id": "b98807ec",
   "metadata": {},
   "outputs": [],
   "source": [
    "def spearman_rho(x,y):\n",
    "\n",
    "    \"\"\"\n",
    "    Return spearman_rho: \n",
    "    This is a rank correlation:\n",
    "    ---------------------------\n",
    "    NB: This is an approximation formula\n",
    "    if the number of tie is large compare to the number of element, \n",
    "    the spearman_rho is less  accurate. \n",
    "\n",
    "    \"\"\"\n",
    "\n",
    "    m = len(x)# Number of rows\n",
    "\n",
    "\n",
    "    x_rank = get_rank(x)\n",
    "    y_rank = get_rank(y)\n",
    "\n",
    "    temp = (x_rank - y_rank)**2\n",
    "\n",
    "    r = 1-6* np.sum(temp) / (m**3-m)\n",
    "    return r"
   ]
  },
  {
   "cell_type": "code",
   "execution_count": 25,
   "id": "4e929323",
   "metadata": {},
   "outputs": [],
   "source": [
    "def get_rank(x):\n",
    "    \"\"\"\n",
    "    Input: vector / array\n",
    "    Return rank of a vector\n",
    "    --------------------------\n",
    "    Source: https://www.geeksforgeeks.org/program-spearmans-rank-correlation/\n",
    "    Good material: https://www.nagwa.com/en/explainers/412129796494/#:~:text=three%20decimal%20places.-,Answer,variables%20for%20each%20data%20pair.\n",
    "\n",
    "    \"\"\"\n",
    "\n",
    "    x = np.array(x)\n",
    "    n = len(x)\n",
    "\n",
    "    # Rank Vector\n",
    "    rank = np.zeros(n)\n",
    "\n",
    "    for i in range(n):\n",
    "\n",
    "        r = 1\n",
    "        s = 1\n",
    "\n",
    "        # Count no of smaller elements\n",
    "        # in 0 to i-1\n",
    "        for j in range(i):\n",
    "            if (x[j] < x[i]):\n",
    "                r += 1\n",
    "            if (x[j] == x[i]):\n",
    "                s += 1\n",
    "\n",
    "        # Count no of smaller elements\n",
    "        # in i+1 to N-1\n",
    "        for j in range(i+1, n):\n",
    "            if (x[j] < x[i]):\n",
    "                r += 1\n",
    "            if (x[j] == x[i]):\n",
    "                s += 1\n",
    "\n",
    "        # Use Fractional Rank formula\n",
    "        # fractional_rank = r + (n-1)/2\n",
    "        rank[i] = r + (s-1) * 0.5\n",
    "\n",
    "    # Return Rank Vector\n",
    "    return rank"
   ]
  },
  {
   "cell_type": "code",
   "execution_count": null,
   "id": "85106f63",
   "metadata": {},
   "outputs": [],
   "source": []
  },
  {
   "cell_type": "markdown",
   "id": "54f6f468",
   "metadata": {},
   "source": [
    "#### Covariance matrix"
   ]
  },
  {
   "cell_type": "code",
   "execution_count": 26,
   "id": "3c61dfe0",
   "metadata": {},
   "outputs": [],
   "source": [
    "def corr_matrix(data,kind='s'):\n",
    "    \n",
    "    \"\"\"\n",
    "    input: \n",
    "    data: Stock returns\n",
    "    kind:str:\n",
    "            \"p\": Pearson's rho : Linear Correlation\n",
    "            \"s\": Spearman's rho: Rank Correlation (default)\n",
    "            \"t\": Kendall's tau   : Rank Correlation\n",
    "    ----------------------------------------------\n",
    "    NB: Rank correlation is invariant of scale.    \n",
    "    ----------------------------------------------\n",
    "    Using already implemented kendall's tau, \n",
    "    Spearman's rho and Pearson's rho\n",
    "    \n",
    "    ----------------------------\n",
    "    output: \n",
    "    return nxn array (Correlation matrix)\n",
    "    \"\"\"\n",
    "    N = data.shape[1] # Number of columns in dataset = Nb of element of the basket\n",
    "    \n",
    "    # Covariance matrix is a square (NxN) Matrix\n",
    "    # with their diagonal = 1\n",
    "    data = np.array(data)\n",
    "    cov_mat = np.identity(N)     \n",
    "\n",
    "    for i in range(N):\n",
    "        for j in range(i+1,N): # no need to loop again \n",
    "            if kind == 't':\n",
    "                cov_mat[i][j]=kendall_tau(data[:,i:i+1],data[:,j:j+1])\n",
    "                cov_mat[i][j]=2*np.sin(cov_mat[i][j]*np.pi/6)\n",
    "\n",
    "            elif kind == 's':\n",
    "                cov_mat[i][j]=spearman_rho(data[:,i:i+1],data[:,j:j+1])\n",
    "                cov_mat[i][j]=np.sin(cov_mat[i][j]*np.pi/2)\n",
    "\n",
    "            else: # if no t or s then pearson's rho correlation\n",
    "                cov_mat[i][j]=pearson_rho(data[:,i:i+1],data[:,j:j+1])\n",
    "\n",
    "            cov_mat[j][i] = cov_mat[i][j] # Covariance matrix are symetrical\n",
    "                                          # so we can reduce loop duration\n",
    "                    \n",
    "    \n",
    "    return cov_mat"
   ]
  },
  {
   "cell_type": "markdown",
   "id": "597108ab",
   "metadata": {},
   "source": [
    "#### Check"
   ]
  },
  {
   "cell_type": "code",
   "execution_count": 34,
   "id": "ffd5448f",
   "metadata": {},
   "outputs": [],
   "source": [
    "from scipy.stats import kendalltau, spearmanr"
   ]
  },
  {
   "cell_type": "code",
   "execution_count": 35,
   "id": "a555ce2c",
   "metadata": {},
   "outputs": [
    {
     "data": {
      "text/plain": [
       "(2661, 6)"
      ]
     },
     "execution_count": 35,
     "metadata": {},
     "output_type": "execute_result"
    }
   ],
   "source": [
    "equity_daily.shape"
   ]
  },
  {
   "cell_type": "code",
   "execution_count": 36,
   "id": "8d1bbf49",
   "metadata": {},
   "outputs": [
    {
     "data": {
      "text/html": [
       "<div>\n",
       "<style scoped>\n",
       "    .dataframe tbody tr th:only-of-type {\n",
       "        vertical-align: middle;\n",
       "    }\n",
       "\n",
       "    .dataframe tbody tr th {\n",
       "        vertical-align: top;\n",
       "    }\n",
       "\n",
       "    .dataframe thead th {\n",
       "        text-align: right;\n",
       "    }\n",
       "</style>\n",
       "<table border=\"1\" class=\"dataframe\">\n",
       "  <thead>\n",
       "    <tr style=\"text-align: right;\">\n",
       "      <th></th>\n",
       "      <th>Date</th>\n",
       "      <th>BA</th>\n",
       "      <th>CAH</th>\n",
       "      <th>F</th>\n",
       "      <th>JPM</th>\n",
       "      <th>MAR</th>\n",
       "    </tr>\n",
       "  </thead>\n",
       "  <tbody>\n",
       "    <tr>\n",
       "      <th>0</th>\n",
       "      <td>2012-01-03</td>\n",
       "      <td>60.731102</td>\n",
       "      <td>30.738464</td>\n",
       "      <td>7.419179</td>\n",
       "      <td>25.967585</td>\n",
       "      <td>26.764397</td>\n",
       "    </tr>\n",
       "    <tr>\n",
       "      <th>1</th>\n",
       "      <td>2012-01-04</td>\n",
       "      <td>60.821110</td>\n",
       "      <td>30.530964</td>\n",
       "      <td>7.532503</td>\n",
       "      <td>26.132074</td>\n",
       "      <td>27.183706</td>\n",
       "    </tr>\n",
       "    <tr>\n",
       "      <th>2</th>\n",
       "      <td>2012-01-05</td>\n",
       "      <td>60.166508</td>\n",
       "      <td>30.308651</td>\n",
       "      <td>7.725810</td>\n",
       "      <td>26.677906</td>\n",
       "      <td>28.075848</td>\n",
       "    </tr>\n",
       "    <tr>\n",
       "      <th>3</th>\n",
       "      <td>2012-01-06</td>\n",
       "      <td>60.534718</td>\n",
       "      <td>30.797743</td>\n",
       "      <td>7.805804</td>\n",
       "      <td>26.438633</td>\n",
       "      <td>28.316730</td>\n",
       "    </tr>\n",
       "    <tr>\n",
       "      <th>4</th>\n",
       "      <td>2012-01-09</td>\n",
       "      <td>60.984753</td>\n",
       "      <td>30.560602</td>\n",
       "      <td>7.865796</td>\n",
       "      <td>26.393780</td>\n",
       "      <td>28.700352</td>\n",
       "    </tr>\n",
       "  </tbody>\n",
       "</table>\n",
       "</div>"
      ],
      "text/plain": [
       "         Date         BA        CAH         F        JPM        MAR\n",
       "0  2012-01-03  60.731102  30.738464  7.419179  25.967585  26.764397\n",
       "1  2012-01-04  60.821110  30.530964  7.532503  26.132074  27.183706\n",
       "2  2012-01-05  60.166508  30.308651  7.725810  26.677906  28.075848\n",
       "3  2012-01-06  60.534718  30.797743  7.805804  26.438633  28.316730\n",
       "4  2012-01-09  60.984753  30.560602  7.865796  26.393780  28.700352"
      ]
     },
     "execution_count": 36,
     "metadata": {},
     "output_type": "execute_result"
    }
   ],
   "source": [
    "equity_daily.head()"
   ]
  },
  {
   "cell_type": "code",
   "execution_count": 37,
   "id": "a89492f0",
   "metadata": {},
   "outputs": [],
   "source": [
    "# testing data\n",
    "data_test = np.array(equity_daily.iloc[:,1:])"
   ]
  },
  {
   "cell_type": "markdown",
   "id": "2633b0af",
   "metadata": {},
   "source": [
    "##### Pearson"
   ]
  },
  {
   "cell_type": "code",
   "execution_count": 38,
   "id": "428ea858",
   "metadata": {},
   "outputs": [
    {
     "data": {
      "text/plain": [
       "array([[ 0.00000000e+00,  1.12757026e-17, -3.29597460e-17,\n",
       "        -3.33066907e-16, -8.88178420e-16],\n",
       "       [ 1.04083409e-17,  1.11022302e-16,  1.66533454e-16,\n",
       "         2.77555756e-17,  1.38777878e-16],\n",
       "       [-3.29597460e-17,  1.66533454e-16,  1.11022302e-16,\n",
       "         4.44089210e-16, -5.55111512e-17],\n",
       "       [-3.33066907e-16,  1.38777878e-17,  4.99600361e-16,\n",
       "         0.00000000e+00,  1.11022302e-16],\n",
       "       [-7.77156117e-16,  1.38777878e-16,  0.00000000e+00,\n",
       "         2.22044605e-16,  0.00000000e+00]])"
      ]
     },
     "execution_count": 38,
     "metadata": {},
     "output_type": "execute_result"
    }
   ],
   "source": [
    "corr_matrix(data_test, kind=\"p\") - np.corrcoef(data_test.T)"
   ]
  },
  {
   "cell_type": "code",
   "execution_count": null,
   "id": "10e0d637",
   "metadata": {},
   "outputs": [],
   "source": []
  },
  {
   "cell_type": "code",
   "execution_count": 39,
   "id": "2cf20a6b",
   "metadata": {},
   "outputs": [
    {
     "name": "stdout",
     "output_type": "stream",
     "text": [
      "difference in Spearman's rho: 2.804538280776203e-08\n"
     ]
    }
   ],
   "source": [
    "temp = spearman_rho(data_test[:,0], data_test[:,1]) - spearmanr(data_test[:,0], data_test[:,1])[0]\n",
    "print(\"difference in Spearman's rho:\", temp)"
   ]
  },
  {
   "cell_type": "code",
   "execution_count": 40,
   "id": "7c8380b1",
   "metadata": {},
   "outputs": [
    {
     "name": "stdout",
     "output_type": "stream",
     "text": [
      "difference in Kendall's tau: 0.0\n"
     ]
    }
   ],
   "source": [
    "temp = kendall_tau(data_test[:,0], data_test[:,1]) - kendalltau(data_test[:,0], data_test[:,1])[0]\n",
    "print(\"difference in Kendall's tau:\", temp)"
   ]
  },
  {
   "cell_type": "markdown",
   "id": "bd6230f5",
   "metadata": {},
   "source": [
    "- Pearson's rho is very accurate error of order <1.e-15\n",
    "- Spearman's rho is pretty accurate with an error of order <1.e-7\n",
    "- Kendall's tau is extremely accurate. Same results as Scipi packages "
   ]
  },
  {
   "cell_type": "code",
   "execution_count": 41,
   "id": "090e834c",
   "metadata": {},
   "outputs": [],
   "source": [
    "del temp, equity_daily, data_test, kendalltau, spearmanr"
   ]
  },
  {
   "cell_type": "markdown",
   "id": "2ca9f775",
   "metadata": {},
   "source": [
    "### Box-Muller method:"
   ]
  },
  {
   "cell_type": "code",
   "execution_count": 42,
   "id": "46fc26e7",
   "metadata": {},
   "outputs": [
    {
     "name": "stdout",
     "output_type": "stream",
     "text": [
      "Generator(PCG64)\n"
     ]
    }
   ],
   "source": [
    "# Find the Random generator used. \n",
    "print(np.random.default_rng())\n"
   ]
  },
  {
   "cell_type": "code",
   "execution_count": 43,
   "id": "5bf8fbf6",
   "metadata": {},
   "outputs": [],
   "source": [
    "def box_muller(N=1):\n",
    "    \n",
    "    #Generate two random number from the uniform distribution X~U(0,1)\n",
    "    \n",
    "    # return 2xN random varialbe\n",
    "    u1 = np.random.rand(N)  \n",
    "    u2 = np.random.rand(N)\n",
    "   \n",
    "    r = (-2*np.log(u1))**0.5\n",
    "    theta = 2*pi*u2\n",
    "    z1 = r *np.cos(theta)\n",
    "    z2 = r *np.sin(theta)\n",
    "     \n",
    "    #out = z1,z2\n",
    "    return z1, z2\n",
    "    #return np.asarray(out).reshape(1,-1)"
   ]
  },
  {
   "cell_type": "code",
   "execution_count": 44,
   "id": "f4ce71da",
   "metadata": {},
   "outputs": [
    {
     "data": {
      "text/plain": [
       "(array([0.08283434, 0.60259286]), array([0.47364412, 1.76473395]))"
      ]
     },
     "execution_count": 44,
     "metadata": {},
     "output_type": "execute_result"
    }
   ],
   "source": [
    "box_muller(2)"
   ]
  },
  {
   "cell_type": "markdown",
   "id": "b0e94ce7",
   "metadata": {},
   "source": [
    "#### Checking $Z_1$ and $Z_2$ are uncorrelated: "
   ]
  },
  {
   "cell_type": "code",
   "execution_count": 45,
   "id": "cea781ee",
   "metadata": {},
   "outputs": [
    {
     "name": "stdout",
     "output_type": "stream",
     "text": [
      "the average correlation is -0.00016834120561341585\n",
      "Wall time: 12 s\n"
     ]
    }
   ],
   "source": [
    "%%time\n",
    "N=10**5 \n",
    "test_corr = np.zeros(N)\n",
    "for i in range(N):\n",
    "    test_corr[i]=np.corrcoef(box_muller(100)[0], box_muller(100)[1])[0,1]\n",
    "\n",
    "print(\"the average correlation is\",np.mean(test_corr)) # average of 10^6 simulation."
   ]
  },
  {
   "cell_type": "code",
   "execution_count": null,
   "id": "7a7786ac",
   "metadata": {},
   "outputs": [],
   "source": []
  },
  {
   "cell_type": "markdown",
   "id": "1a58c10e",
   "metadata": {},
   "source": [
    "#### Checking $Z_1$ and $Z_2$ are Standard Normal"
   ]
  },
  {
   "cell_type": "code",
   "execution_count": 46,
   "id": "857e8e72",
   "metadata": {},
   "outputs": [],
   "source": [
    "bm_temp = box_muller(10**5)"
   ]
  },
  {
   "cell_type": "code",
   "execution_count": 47,
   "id": "6b132126",
   "metadata": {},
   "outputs": [
    {
     "data": {
      "text/plain": [
       "[<matplotlib.lines.Line2D at 0x2e59d115430>]"
      ]
     },
     "execution_count": 47,
     "metadata": {},
     "output_type": "execute_result"
    },
    {
     "data": {
      "image/png": "[encoded data removed]",
      "text/plain": [
       "<Figure size 432x288 with 1 Axes>"
      ]
     },
     "metadata": {
      "needs_background": "light"
     },
     "output_type": "display_data"
    }
   ],
   "source": [
    "plt.hist(bm_temp[0], bins=60, density = True, color = \"orange\", edgecolor='red')\n",
    "x_val = np.linspace(-4,4,10**6)\n",
    "plt.plot(x_val, norm_pdf(x_val), color = \"blue\")\n",
    "#plt.savefig(\"Z_1.png\")"
   ]
  },
  {
   "cell_type": "code",
   "execution_count": 48,
   "id": "58409012",
   "metadata": {},
   "outputs": [
    {
     "data": {
      "text/plain": [
       "[<matplotlib.lines.Line2D at 0x2e59da05820>]"
      ]
     },
     "execution_count": 48,
     "metadata": {},
     "output_type": "execute_result"
    },
    {
     "data": {
      "image/png": "[encoded data removed]",
      "text/plain": [
       "<Figure size 432x288 with 1 Axes>"
      ]
     },
     "metadata": {
      "needs_background": "light"
     },
     "output_type": "display_data"
    }
   ],
   "source": [
    "plt.hist(bm_temp[1], bins=60, density = True, color = \"lightgreen\", edgecolor='red')\n",
    "x_val = np.linspace(-4,4,10**6)\n",
    "plt.plot(x_val, norm_pdf(x_val), color = \"blue\")\n",
    "#plt.savefig(\"Z_2.png\")"
   ]
  },
  {
   "cell_type": "markdown",
   "id": "5e8e31ac",
   "metadata": {},
   "source": [
    "### Matrices"
   ]
  },
  {
   "cell_type": "markdown",
   "id": "ec41696a",
   "metadata": {},
   "source": [
    "#### Determinant"
   ]
  },
  {
   "cell_type": "code",
   "execution_count": 49,
   "id": "ef3fbe20",
   "metadata": {},
   "outputs": [],
   "source": [
    "def matrix_det(A):\n",
    "    \"\"\"\n",
    "    Input: nxn matrix / array\n",
    "    ------------------------------------------------\n",
    "    Convert matrix into a upper triangle matrix\n",
    "    then return the product of the diagonal elements\n",
    "    (gives determinant)\n",
    "    ------------------------------------------------\n",
    "    source: \n",
    "    https://integratedmlai.com/find-the-determinant-of-a-matrix-with-pure-python-without-numpy-or-scipy/\n",
    "    \"\"\"\n",
    "    \n",
    "    \n",
    "    # Establish n parameter and copy A\n",
    "    A = np.array(A)\n",
    "    n = A.shape[0]\n",
    "    C = A.copy() # copy\n",
    "    \n",
    "    # check if A is a square matrix. \n",
    "    if A.shape[0] != A.shape[1]:\n",
    "        raise ValueError(\"This is not a square matrix!\")\n",
    " \n",
    "    # Row ops on A to get in upper triangle form\n",
    "    for d in range(n): \n",
    "        for i in range(d+1,n): #\n",
    "            if C[d][d] == 0: # Nice trick to avoid dividing by zero (just in case!)\n",
    "                C[d][d] == 1.0e-18\n",
    "            \n",
    "            # \n",
    "            coef = C[i][d] / C[d][d] \n",
    "            # Element / element operation\n",
    "            #need to review for array operation?\n",
    "            for j in range(n): \n",
    "                C[i][j] = C[i][j] - coef * C[d][j]\n",
    "     \n",
    "    # Section 3: Once AM is in upper triangle form ...\n",
    "    prod = 1.0\n",
    "    for i in range(n):\n",
    "        # ... product of diagonals is determinant\n",
    "        prod *= C[i][i] \n",
    "    return prod"
   ]
  },
  {
   "cell_type": "code",
   "execution_count": null,
   "id": "155de044",
   "metadata": {},
   "outputs": [],
   "source": []
  },
  {
   "cell_type": "code",
   "execution_count": null,
   "id": "569853c6",
   "metadata": {},
   "outputs": [],
   "source": []
  },
  {
   "cell_type": "markdown",
   "id": "ba73fcfd",
   "metadata": {},
   "source": [
    "#### Cholesky decomposition"
   ]
  },
  {
   "cell_type": "code",
   "execution_count": 27,
   "id": "f07e5775",
   "metadata": {},
   "outputs": [],
   "source": [
    "def cholesky(A):\n",
    "    \"\"\"\n",
    "    Implementation: Cholesky-Banachiewicz Algorithm\n",
    "    Input  symmetric and positive definite matrix. The function\n",
    "    returns the lower variant triangular matrix, L.\n",
    "    -----------------------------------------------------------\n",
    "    Source: https://www.quantstart.com/articles/Cholesky-Decomposition-in-Python-and-NumPy/\n",
    "    \n",
    "    \"\"\"\n",
    "    n = len(A)\n",
    "\n",
    "    # Create zero matrix for L\n",
    "    L = np.zeros((n,n))\n",
    "\n",
    "    # Perform the Cholesky decomposition\n",
    "    for i in range(n):\n",
    "        for k in range(i+1):\n",
    "            temp = sum(L[i][j] * L[k][j] for j in range(k))\n",
    "            \n",
    "            if (i == k): # Diagonal elements\n",
    "                # l_{kk} \n",
    "                L[i][k] = np.sqrt(A[i][i] - temp)\n",
    "            else:\n",
    "                #l_{ik} = \n",
    "                L[i][k] = (1.0 / L[k][k] * (A[i][k] - temp))\n",
    "    return L\n",
    " "
   ]
  },
  {
   "cell_type": "code",
   "execution_count": null,
   "id": "2ba22dae",
   "metadata": {},
   "outputs": [],
   "source": []
  },
  {
   "cell_type": "markdown",
   "id": "b898c036",
   "metadata": {},
   "source": [
    "### Numerical Methods"
   ]
  },
  {
   "cell_type": "markdown",
   "id": "fcaecd00",
   "metadata": {},
   "source": [
    "Few methods to find the zero of a function"
   ]
  },
  {
   "cell_type": "markdown",
   "id": "71499b9d",
   "metadata": {},
   "source": [
    "#### Bisection method"
   ]
  },
  {
   "cell_type": "code",
   "execution_count": 51,
   "id": "c3a8de34",
   "metadata": {},
   "outputs": [],
   "source": [
    "def bisection(f, a, b, tol=1e-8, maxiter=100):\n",
    "    \"\"\"\n",
    "    Input: \n",
    "    f: The function to solve\n",
    "    a: The x-axis value where f(a)<0\n",
    "    b: The x-axis value where f(b)>0\n",
    "    tol: The precision of the solution\n",
    "    maxiter: Maximum number of iterations\n",
    "    --------------------------------------------\n",
    "    Condition: a<b \n",
    "               f(a)< 0 < f(b)\n",
    "            OR f(a)> 0 > f(b)\n",
    "    Function needs to be monotonic increasing on the interval\n",
    "    -------------------------------------------\n",
    "    Output: x value such that f(x) = 0 += tol,\n",
    "            number of iterations used\n",
    "    \"\"\"\n",
    "    c = (a+b)*0.5 # Declare c as the midpoint ab\n",
    "    n = 1 # Start with 1 iteration\n",
    "    while n <= maxiter:\n",
    "        c = (a+b)*0.5\n",
    "        if f(c) == 0 or abs(a-b)*0.5 < tol:\n",
    "            # Root is found or is very close\n",
    "            return c, n\n",
    "        n += 1\n",
    "        if f(c) < 0:\n",
    "            a = c\n",
    "        else:\n",
    "            b = c\n",
    "    return c, n "
   ]
  },
  {
   "cell_type": "markdown",
   "id": "50425f96",
   "metadata": {},
   "source": [
    "#### Secant method"
   ]
  },
  {
   "cell_type": "code",
   "execution_count": 52,
   "id": "3e5c9586",
   "metadata": {},
   "outputs": [],
   "source": [
    "def secant(f, a, b, tol=1e-8, maxiter=100):\n",
    "    \"\"\"\n",
    "    f: The function to solve\n",
    "    a: Initial guess\n",
    "    b: Initial s.t. where b>a\n",
    "    tol: The precision of the solution\n",
    "    maxiter: Maximum number of iterations\n",
    "    --------------------------------------------\n",
    "    Condition: a<b \n",
    "               f(a)< 0 < f(b)\n",
    "            OR f(a)> 0 > f(b)\n",
    "    Function needs to be monotonic increasing on the interval\n",
    "    -------------------------------------------\n",
    "    Output: x value such that f(x) = 0 += tol,\n",
    "            number of iterations used\n",
    "    output: The x-axis value of the root,\n",
    "    number of iterations used\n",
    "    \"\"\"\n",
    "    n = 1\n",
    "    while n <= maxiter:\n",
    "        c = b - f(b)*((b-a)/(f(b)-f(a))) # the small (b-a) is the closer the right bracket is close to f'(x)\n",
    "        if abs(c-b) < tol:\n",
    "            return c, n\n",
    "        a = b\n",
    "        b = c\n",
    "        n += 1\n",
    "        return None, n"
   ]
  },
  {
   "cell_type": "markdown",
   "id": "6e005796",
   "metadata": {},
   "source": [
    "#### Newton's method"
   ]
  },
  {
   "cell_type": "code",
   "execution_count": 53,
   "id": "68bcb86e",
   "metadata": {},
   "outputs": [],
   "source": [
    "def newton(f, df, x, tol=1e-8, maxiter=100):\n",
    "    \"\"\"\n",
    "    f: The function to solve\n",
    "    df: The derivative function of f\n",
    "    x: Initial guess value of x\n",
    "    tol: The precision of the solution\n",
    "    maxiter: Maximum number of iterations\n",
    "    ---------------------------------------\n",
    "    output: x value s.t.: f(x) = 0\n",
    "            number of iterations used\n",
    "    ---------------------------------------\n",
    "    NB: Compare to other method, we require df\n",
    "    \"\"\"\n",
    "    n = 1\n",
    "    while n <= maxiter:\n",
    "        x1 = x - f(x)/df(x)\n",
    "        if abs(x1 - x) < tol: # Root is very close\n",
    "            return x1, n\n",
    "        else:\n",
    "            x = x1\n",
    "            n += 1\n",
    "    return None, n "
   ]
  },
  {
   "cell_type": "markdown",
   "id": "d19bf80a",
   "metadata": {},
   "source": [
    "#### Integral - Trapezium"
   ]
  },
  {
   "cell_type": "code",
   "execution_count": 54,
   "id": "c5494a1e",
   "metadata": {},
   "outputs": [],
   "source": [
    "def trapezium(f, a,b, n):\n",
    "    \"\"\"\n",
    "    Trapezium rule for integration\n",
    "    f: function\n",
    "    a: lower bound\n",
    "    b: upper bound\n",
    "    n: number of interval (higher n, the more accurate)\n",
    "    \"\"\"\n",
    "    h = (b-a)/n\n",
    "    \n",
    "    x_axis =  np.linspace(a, b, n+1)\n",
    "    y_axis = f(x_axis)\n",
    "    return (h/2) * (y_axis[0] + y_axis[-1] + 2*np.sum(y_axis[1:-1]))"
   ]
  },
  {
   "cell_type": "markdown",
   "id": "0e4f1dd1",
   "metadata": {},
   "source": [
    "### Linear Interpolation"
   ]
  },
  {
   "cell_type": "code",
   "execution_count": 28,
   "id": "bf603d8f",
   "metadata": {},
   "outputs": [],
   "source": [
    "def linear_interpolation(x,y, t):\n",
    "    \n",
    "    \"\"\"\n",
    "    1D interpolation\n",
    "    ------------------------------------------------\n",
    "    x: array\n",
    "    y: array\n",
    "    t: point\n",
    "    \n",
    "    to review (different implementation to check speed)\n",
    "    \"\"\"\n",
    "    \n",
    "    \n",
    "    x, y = np.array(x).reshape(-1,1), np.array(y).reshape(-1,1)\n",
    "\n",
    "    # Get the neighbor values\n",
    "    t1 =np.amax(x[x<=t], initial=x.min())\n",
    "    t2= np.amin(x[t<=x], initial = x.max())\n",
    "    \n",
    "\n",
    "    if t in x:\n",
    "    \n",
    "        return y[np.where(x==t)[0][0]]\n",
    "    # Interpolate the values\n",
    "\n",
    "    return y[np.where(x==t1)[0][0]] + (y[np.where(x==t2)[0][0]]-y[np.where(x==t1)[0][0]])/(x[np.where(x==t2)[0][0]]-x[np.where(x==t1)[0][0]])* (t-x[np.where(x==t1)[0][0]])"
   ]
  },
  {
   "cell_type": "code",
   "execution_count": null,
   "id": "9abea202",
   "metadata": {},
   "outputs": [],
   "source": []
  },
  {
   "cell_type": "code",
   "execution_count": 29,
   "id": "a9f39c00",
   "metadata": {},
   "outputs": [
    {
     "data": {
      "text/plain": [
       "array([0.98845264])"
      ]
     },
     "execution_count": 29,
     "metadata": {},
     "output_type": "execute_result"
    }
   ],
   "source": [
    "zcb(0.5546)"
   ]
  },
  {
   "cell_type": "markdown",
   "id": "b3c02922",
   "metadata": {},
   "source": [
    "# Calculation"
   ]
  },
  {
   "cell_type": "markdown",
   "id": "3fcf7f99",
   "metadata": {},
   "source": [
    "## correlation"
   ]
  },
  {
   "cell_type": "code",
   "execution_count": 30,
   "id": "84c74c26",
   "metadata": {},
   "outputs": [],
   "source": [
    "SIGMA_s = corr_matrix(u_hat, kind= \"s\") # Spearmans' rho\n",
    "SIGMA_t = corr_matrix(u_hat, kind= \"t\") # Kendall's tau\n",
    "SIGMA_p = corr_matrix(u_hat, kind= \"p\") # Pearson's rho"
   ]
  },
  {
   "cell_type": "markdown",
   "id": "ab956dc9",
   "metadata": {},
   "source": [
    "## Survival Probability / Hazard Rate"
   ]
  },
  {
   "cell_type": "code",
   "execution_count": 31,
   "id": "abe4049b",
   "metadata": {},
   "outputs": [],
   "source": [
    "def probability(maturity, spread, DF, RR = 0.4):\n",
    "    \n",
    "    \"\"\"\n",
    "    JPM Implementation: \n",
    "    Maturity: in year np.array / list\n",
    "    Spread: array / list of CDS spread\n",
    "    DF: Discount Factor: np.array / list\n",
    "    RR: Recovery Rate (float)\n",
    "    --------------------------------------\n",
    "    Return: survival probability and hazard rate.\n",
    "    \"\"\"\n",
    "    \n",
    "    \n",
    "    maturity = np.array(maturity, dtype = np.float)\n",
    "    if maturity[0]!=0:\n",
    "        maturity = np.append([0], maturity)\n",
    "    \n",
    "\n",
    "     \n",
    "\n",
    "    dt = np.append([0],np.diff(maturity)) \n",
    "    \n",
    "    #Spread\n",
    "    spread = np.array(spread)\n",
    "    if spread[0] != 0.0:\n",
    "        spread = np.append([0], spread)\n",
    "    if spread[1] > 1.0:\n",
    "        spread = spread/10000 # convert spread into decimals\n",
    "    \n",
    "    n = len(maturity)\n",
    "\n",
    "    \n",
    "    DF = np.array(DF)\n",
    "    survival = np.zeros(n)\n",
    "    survival[0] = 1.0\n",
    "    \n",
    "    \n",
    "    \n",
    "    # Loss Rate = (1 - Recovery Rate)\n",
    "    L = (1-RR)\n",
    "    \n",
    "    \n",
    "    # i=1\n",
    "    #survival[1] = (L-0.5*spread[1] *dt[1])/ (0.5*spread[1] *dt[1] + L) # for accrued n = 1 \n",
    "    survival[1] = L/ (spread[1] *dt[1] + L) \n",
    "    \n",
    "\n",
    "    for i in range(2,n):\n",
    "\n",
    "        # List comprehension to improve speed\n",
    "        # S (Summation Term)\n",
    "        S = [DF[j] * (L * survival[j-1] - \\\n",
    "                          (L + dt[j] * spread[i])* \\\n",
    "                           survival[j]) for j in range(1,i)]\n",
    "        \n",
    "            \n",
    "        denominator = DF[i]*( L +dt[i]*spread[i])\n",
    "        last = (L*survival[i-1] / ( L + dt[i] * spread[i]))\n",
    "\n",
    "\n",
    "        survival[i] = sum(S) / denominator + last\n",
    "    \n",
    "    \n",
    "    lambdas = np.zeros(len(survival))\n",
    "\n",
    "    for i in range(1, len(survival)):\n",
    "        lambdas[i] = -1 / dt[i] * np.log(survival[i] / survival[i-1])\n",
    "        \n",
    "    \n",
    "\n",
    "    return survival, lambdas\n",
    "        \n",
    "    "
   ]
  },
  {
   "cell_type": "code",
   "execution_count": null,
   "id": "5039d604",
   "metadata": {},
   "outputs": [],
   "source": []
  },
  {
   "cell_type": "code",
   "execution_count": 32,
   "id": "0e82335c",
   "metadata": {},
   "outputs": [],
   "source": [
    "mat = list(cds_spread.columns)[:6]\n",
    "discount_factor = discounts[discounts[\"T\"].isin([0, 1, 2, 3, 4, 5])].set_index(\"T\").loc[:,\"DF\"]\n",
    "\n",
    "\n",
    "# Create a dictionnary:\n",
    "basket_data = {}\n",
    "for name in names:\n",
    "    surv = []\n",
    "    lbd = []\n",
    "    cds = cds_spread.loc[name,:]\n",
    "    surv, lbd = probability(mat, cds, discount_factor, 0.4)\n",
    "    basket_data[name] = np.array([mat, surv, lbd])"
   ]
  },
  {
   "cell_type": "code",
   "execution_count": 33,
   "id": "5c72d2a3",
   "metadata": {},
   "outputs": [
    {
     "data": {
      "text/plain": [
       "(3, 6)"
      ]
     },
     "execution_count": 33,
     "metadata": {},
     "output_type": "execute_result"
    }
   ],
   "source": [
    "basket_data[\"ALLY\"].shape"
   ]
  },
  {
   "cell_type": "markdown",
   "id": "cae0cab1",
   "metadata": {},
   "source": [
    "each dictionnary \"value\" contains a 3 x n array. \n",
    "- index 0 : Maturity\n",
    "- index 1: Survival probability\n",
    "- index 2: Lambda / Hazard rate"
   ]
  },
  {
   "cell_type": "code",
   "execution_count": null,
   "id": "af5f084d",
   "metadata": {},
   "outputs": [],
   "source": []
  },
  {
   "cell_type": "code",
   "execution_count": null,
   "id": "b53d853b",
   "metadata": {},
   "outputs": [],
   "source": []
  },
  {
   "cell_type": "code",
   "execution_count": 34,
   "id": "5daae7c8",
   "metadata": {},
   "outputs": [],
   "source": [
    "mats = []\n",
    "lambdas = []\n",
    "survivals = []\n",
    "for i in basket_data:\n",
    "    mats.append(basket_data[i][0][:6])\n",
    "    survivals.append(basket_data[i][1][:6])\n",
    "    lambdas.append(basket_data[i][2][:6])\n",
    "mats = np.array(mats, dtype = np.float)\n",
    "survivals = np.array(survivals, dtype = np.float)\n",
    "lambdas = np.array(lambdas, dtype = np.float)"
   ]
  },
  {
   "cell_type": "code",
   "execution_count": null,
   "id": "1f4dc40a",
   "metadata": {},
   "outputs": [],
   "source": []
  },
  {
   "cell_type": "code",
   "execution_count": 35,
   "id": "fa579f78",
   "metadata": {},
   "outputs": [
    {
     "data": {
      "text/plain": [
       "(3, 6)"
      ]
     },
     "execution_count": 35,
     "metadata": {},
     "output_type": "execute_result"
    }
   ],
   "source": [
    "basket_data[\"ALLY\"].shape"
   ]
  },
  {
   "cell_type": "code",
   "execution_count": null,
   "id": "be786600",
   "metadata": {},
   "outputs": [],
   "source": []
  },
  {
   "cell_type": "code",
   "execution_count": null,
   "id": "6f9b65f9",
   "metadata": {},
   "outputs": [],
   "source": []
  },
  {
   "cell_type": "markdown",
   "id": "31eecfab",
   "metadata": {},
   "source": [
    "## Log likelihood"
   ]
  },
  {
   "cell_type": "code",
   "execution_count": null,
   "id": "65cf05d4",
   "metadata": {},
   "outputs": [],
   "source": []
  },
  {
   "cell_type": "code",
   "execution_count": 36,
   "id": "c81ea5ee",
   "metadata": {},
   "outputs": [],
   "source": [
    "def gaussian_copula(u, SIGMA):\n",
    "    \"\"\"\n",
    "    Gaussian copula density function:\n",
    "    ---------------------------------\n",
    "    u    : nx1 array: unif R.V\n",
    "    SIGMA: nxn array: Correlation matrix\n",
    "    \"\"\"\n",
    "    u = np.array(u).reshape(-1,1)\n",
    "    n = u.shape[0]\n",
    "    A = 1 / det(SIGMA)**0.5\n",
    "    B = ((norm_inv_v(u).T).dot(inv(SIGMA) - np.eye(n))).dot(norm_inv_v(u))\n",
    "    return A * np.exp(-0.5 * B)"
   ]
  },
  {
   "cell_type": "code",
   "execution_count": 37,
   "id": "2923b53e",
   "metadata": {},
   "outputs": [
    {
     "data": {
      "text/plain": [
       "array([[1.18274241]])"
      ]
     },
     "execution_count": 37,
     "metadata": {},
     "output_type": "execute_result"
    }
   ],
   "source": [
    "gaussian_copula(u_hat.iloc[0,:], SIGMA_t )"
   ]
  },
  {
   "cell_type": "code",
   "execution_count": 38,
   "id": "4716ce8a",
   "metadata": {},
   "outputs": [],
   "source": [
    "def t_copula_density(u, nu, SIGMA):\n",
    "    \"\"\"\n",
    "    t copula density function: \n",
    "    ---------------------------\n",
    "    u:     nx1 unif R.V. \n",
    "    nu:    degree of freedome\n",
    "    SIGMA: Correlation matrix\n",
    "    n:     basket size\n",
    "    ---------------------------\n",
    "    return: scalar\n",
    "    \"\"\"\n",
    "    u = u.reshape(-1,1)\n",
    "    nu = np.float(nu)\n",
    "    n = u.shape[0]\n",
    "    \n",
    "    A = 1 / det(SIGMA)**0.5 *(gamma(0.5 * (nu + n)) / gamma(0.5 * nu)) * (gamma(0.5 * nu) / gamma(0.5 * (nu + 1)))**n\n",
    "    B = (t_student_inv(u, nu).T.dot(inv(SIGMA))).dot(t_student_inv(u, nu)) \n",
    "    C =(1 + B / nu)**(-0.5 * (nu + n))\n",
    "    D = np.array([(1 + t_student_inv(u[i], nu)**2 / nu)**(-0.5 * (nu + 1)) for i in range(n)])\n",
    "\n",
    "    return A*C / np.prod(D)"
   ]
  },
  {
   "cell_type": "code",
   "execution_count": null,
   "id": "e503ab20",
   "metadata": {},
   "outputs": [],
   "source": []
  },
  {
   "cell_type": "code",
   "execution_count": null,
   "id": "9208d51b",
   "metadata": {},
   "outputs": [],
   "source": []
  },
  {
   "cell_type": "code",
   "execution_count": 39,
   "id": "02442e00",
   "metadata": {},
   "outputs": [],
   "source": [
    "def log_likelihood(data, nu, SIGMA):\n",
    "    L = 0\n",
    "    for i in range(u_hat.shape[0]):\n",
    "        L+= np.log(t_copula_density(data[i], nu, SIGMA_s))\n",
    "    return L\n",
    "    "
   ]
  },
  {
   "cell_type": "code",
   "execution_count": null,
   "id": "4aa839a7",
   "metadata": {},
   "outputs": [],
   "source": []
  },
  {
   "cell_type": "code",
   "execution_count": null,
   "id": "9a5a0d2a",
   "metadata": {},
   "outputs": [],
   "source": []
  },
  {
   "cell_type": "code",
   "execution_count": 32,
   "id": "0b755bb0",
   "metadata": {},
   "outputs": [
    {
     "name": "stdout",
     "output_type": "stream",
     "text": [
      "d.f.: 1 \tlog likelihood: [-389.81190266]\n",
      "d.f.: 2 \tlog likelihood: [86.94176129]\n",
      "d.f.: 3 \tlog likelihood: [187.58138389]\n",
      "d.f.: 4 \tlog likelihood: [222.11848361]\n",
      "d.f.: 5 \tlog likelihood: [236.57521003]\n",
      "d.f.: 6 \tlog likelihood: [243.07827363]\n",
      "d.f.: 7 \tlog likelihood: [245.89619789]\n",
      "d.f.: 8 \tlog likelihood: [246.82963132]\n",
      "d.f.: 9 \tlog likelihood: [246.73794156]\n",
      "d.f.: 10 \tlog likelihood: [246.06897819]\n",
      "d.f.: 11 \tlog likelihood: [245.07161352]\n",
      "d.f.: 12 \tlog likelihood: [243.89083898]\n",
      "d.f.: 13 \tlog likelihood: [242.61407578]\n",
      "d.f.: 14 \tlog likelihood: [241.29529962]\n",
      "d.f.: 15 \tlog likelihood: [239.96831265]\n",
      "d.f.: 16 \tlog likelihood: [238.65437911]\n",
      "d.f.: 17 \tlog likelihood: [237.36678427]\n",
      "d.f.: 18 \tlog likelihood: [236.113642]\n",
      "d.f.: 19 \tlog likelihood: [234.8996692]\n",
      "d.f.: 20 \tlog likelihood: [233.72733187]\n",
      "d.f.: 21 \tlog likelihood: [232.59759893]\n",
      "d.f.: 22 \tlog likelihood: [231.51044545]\n",
      "d.f.: 23 \tlog likelihood: [230.46519265]\n",
      "d.f.: 24 \tlog likelihood: [229.46073982]\n",
      "d.f.: 25 \tlog likelihood: [228.49572345]\n",
      "d.f.: 26 \tlog likelihood: [227.56862686]\n",
      "d.f.: 27 \tlog likelihood: [226.67785585]\n",
      "d.f.: 28 \tlog likelihood: [225.82179047]\n",
      "d.f.: 29 \tlog likelihood: [224.99882048]\n"
     ]
    }
   ],
   "source": [
    "#nu_t = []\n",
    "#log_t = []\n",
    "for i in range(1,30):\n",
    "    print(\"d.f.:\", i, \"\\tlog likelihood:\", log_likelihood(np.array(u_hat), i,SIGMA_t)[0])\n",
    "#    nu_t.append(i)\n",
    "#   log_t.append(log_likelihood(np.array(u_hat), i,SIGMA_t)[0])"
   ]
  },
  {
   "cell_type": "code",
   "execution_count": 529,
   "id": "960742ed",
   "metadata": {},
   "outputs": [],
   "source": [
    "nu_t = pd.DataFrame(nu_t)\n",
    "log_t = pd.DataFrame(log_t)\n",
    "log_like = pd.concat([nu_t, log_t], axis = 1)"
   ]
  },
  {
   "cell_type": "code",
   "execution_count": 531,
   "id": "d9c9ba92",
   "metadata": {},
   "outputs": [],
   "source": [
    "log_like.columns = [\"DF\", \"Log_likelihood\"]"
   ]
  },
  {
   "cell_type": "code",
   "execution_count": 546,
   "id": "bfa79a72",
   "metadata": {},
   "outputs": [
    {
     "name": "stdout",
     "output_type": "stream",
     "text": [
      "\\begin{tabular}{lrrrr}\n",
      "\\toprule\n",
      "{} &  d.f. &  Log likelihood &  d.f. &  Log likelihood \\\\\n",
      "\\midrule\n",
      "0 &   1.0 &     -389.811903 &   2.0 &       86.941761 \\\\\n",
      "1 &   3.0 &      187.581384 &   4.0 &      222.118484 \\\\\n",
      "2 &   5.0 &      236.575210 &   6.0 &      243.078274 \\\\\n",
      "3 &   7.0 &      245.896198 &   8.0 &      246.829631 \\\\\n",
      "4 &   9.0 &      246.737942 &  10.0 &      246.068978 \\\\\n",
      "5 &  11.0 &      245.071614 &  12.0 &      243.890839 \\\\\n",
      "6 &  13.0 &      242.614076 &  14.0 &      241.295300 \\\\\n",
      "7 &  15.0 &      239.968313 &  16.0 &      238.654379 \\\\\n",
      "\\bottomrule\n",
      "\\end{tabular}\n",
      "\n"
     ]
    }
   ],
   "source": [
    "print(pd.DataFrame(np.array(log_like.iloc[:16,:]).reshape(8,4), columns=[\"d.f.\", \"Log likelihood\", \"d.f.\", \"Log likelihood\"]).to_latex())"
   ]
  },
  {
   "cell_type": "code",
   "execution_count": 508,
   "id": "0a4eac61",
   "metadata": {},
   "outputs": [
    {
     "data": {
      "image/png": "[encoded data removed]",
      "text/plain": [
       "<Figure size 864x576 with 1 Axes>"
      ]
     },
     "metadata": {
      "needs_background": "light"
     },
     "output_type": "display_data"
    }
   ],
   "source": [
    "plt.figure(figsize=(12,8))\n",
    "plt.plot(nu_t, log_t)\n",
    "\n",
    "# Horizontal line to show max\n",
    "x = np.array([8.0]*10000)\n",
    "y = np.linspace(-390, 300, 10000)\n",
    "\n",
    "plt.grid(True)\n",
    "\n",
    "plt.xlabel(\"Degree of Freedom\")\n",
    "plt.ylabel(\"Log-likelihood\")\n",
    "plt.plot(x,y)\n",
    "plt.xlim(0,29)\n",
    "plt.ylim(-390,300)\n",
    "#plt.savefig(path+\"Log_likelihood.png\")"
   ]
  },
  {
   "cell_type": "code",
   "execution_count": 504,
   "id": "58163d07",
   "metadata": {},
   "outputs": [
    {
     "name": "stdout",
     "output_type": "stream",
     "text": [
      "\\begin{tabular}{lrrrrr}\n",
      "\\toprule\n",
      "{} &         0 &         1 &         2 &         3 &         4 \\\\\n",
      "\\midrule\n",
      "0 &  1.000000 &  0.645937 &  0.300883 &  0.539762 &  0.674544 \\\\\n",
      "1 &  0.645937 &  1.000000 &  0.443272 &  0.550815 &  0.714896 \\\\\n",
      "2 &  0.300883 &  0.443272 &  1.000000 &  0.643055 &  0.465899 \\\\\n",
      "3 &  0.539762 &  0.550815 &  0.643055 &  1.000000 &  0.575293 \\\\\n",
      "4 &  0.674544 &  0.714896 &  0.465899 &  0.575293 &  1.000000 \\\\\n",
      "\\bottomrule\n",
      "\\end{tabular}\n",
      "\n"
     ]
    }
   ],
   "source": [
    "print(pd.DataFrame(SIGMA_s).to_latex())"
   ]
  },
  {
   "cell_type": "markdown",
   "id": "6f45e9c4",
   "metadata": {},
   "source": [
    "## Basket CDS"
   ]
  },
  {
   "cell_type": "code",
   "execution_count": 239,
   "id": "1690d684",
   "metadata": {},
   "outputs": [],
   "source": [
    "class Basket:\n",
    "    \"\"\"\n",
    "    Basket k'th to default\n",
    "    \"\"\"\n",
    "    def __init__(self, SIGMA, survivals, lambdas, N):\n",
    "    \n",
    "        \"\"\"\n",
    "        Step 1: Instantiate object with \n",
    "                - SIGMA: Correlation matrix\n",
    "                - Survivals: Probability of survival matrix\n",
    "                - Lambdas : Hazard rate matrix\n",
    "                - N : Number of iteration\n",
    "        \n",
    "        Step 2: call the method:  get_results()\n",
    "                param: copula: Sampling methodology used:\n",
    "                            \"g\": Gaussian copula\n",
    "                            \"t\": t copula\n",
    "                       nu:   : Degree of freedom\n",
    "        If Gaussian method is called, nu parameter is ignored.\n",
    "        ----------------------------------------------\n",
    "\n",
    "\n",
    "        ----------------------------------------------\n",
    "        required function:\n",
    "        cholesky \n",
    "        norm_cdf_v\n",
    "        t_student_cdf\n",
    "        \"\"\"\n",
    "        ########################################################\n",
    "        # Input parameter\n",
    "        self.SIGMA = np.array(SIGMA)     # Correlation Matrix\n",
    "        self.survivals = survivals       # Survival probability\n",
    "        self.lambdas = np.array(lambdas) # hazard rate\n",
    "        self.N = int(N)                  # Number or iterations\n",
    "        \n",
    "        ########################################################\n",
    "        \n",
    "        # Automated parameter\n",
    "        self.n_asset = self.SIGMA.shape[0] # number of asset\n",
    "                \n",
    "            \n",
    "        # Updatable parameter\n",
    "        # Cholesky decomposition# Lower triangle\n",
    "        self.S = np.empty_like(self.SIGMA) \n",
    "        \n",
    "        # Mehtod to run while instantiating object\n",
    "        self._set_cholesky()\n",
    "                                           \n",
    "        # Empty arrays\n",
    "        ## Random Number array\n",
    "        self.Z = np.empty((self.N, self.n_asset), dtype=np.float)  # \n",
    "        self.U = np.empty_like(self.Z)\n",
    "\n",
    "        ## Time to default\n",
    "        self.exact_time_to_default = np.zeros((self.n_asset,0))\n",
    "        self.year_to_default = np.zeros((self.n_asset,0))\n",
    "\n",
    "        \n",
    "        \n",
    "        # Spreads \n",
    "        self.spreads = np.array([])\n",
    "        \n",
    "        ######################################################\n",
    "\n",
    "#         self.start_time = 0                 # Used to keep track of time taken for the function to execute.\n",
    "#         self.runtime = 0                    # Total time taken.\n",
    "#         self.df = pd.DataFrame(data=None, columns=[\"N\", \"1st\",\n",
    "#                                                    \"2nd\",\"3rd\",\n",
    "#                                                    \"4th\", \"5th\", \n",
    "#                                                   \"time\"])\n",
    "    \n",
    "\n",
    "\n",
    "    \n",
    "    \n",
    "    \n",
    "    \n",
    "    def get_results(self, copula = \"t\", nu = 8, RR=0.4):\n",
    "        \"\"\"\n",
    "        Use this method to calculate the spread directly. \n",
    "        -------------------------------------------------\n",
    "                copula: methodology\n",
    "                string 'g': Gaussian\n",
    "                       't': t-student\n",
    "        nu    : int: degree of freedom\n",
    "        -------------------------------------------------\n",
    "        Needs to explicitly call RR = 0.4 in the method\n",
    "        \"\"\"\n",
    "        start_time = time.time()\n",
    "        self._set_copula(copula, nu) # sampling\n",
    "        self._set_time_to_default()\n",
    "        self._set_payment_legs(RR)\n",
    "        \n",
    "        runtime = (time.time() - start_time)\n",
    "        return self.N, runtime, self.spreads\n",
    "    \n",
    "    \n",
    "\n",
    "    def _set_copula(self, copula= \"t\", nu = 7):\n",
    "        \"\"\"\n",
    "        copula: methodology\n",
    "                string 'g': Gaussian\n",
    "                       't': t-student\n",
    "        nu    : int: degree of freedom\n",
    "        --------------------------------------\n",
    "        requires: norm_cdf_v\n",
    "                  t_student_cdf\n",
    "                  \n",
    "        --------------------------------------\n",
    "        nb: fix seed to compare methodologie / params\n",
    "        \"\"\"\n",
    "\n",
    "        #generate N x n_asset random standard Normal variable \n",
    "        self.Z = np.random.normal(0, 1, (self.N,self.n_asset))\n",
    "        \n",
    "    \n",
    "        if copula ==\"g\":\n",
    "            \n",
    "            # Apply norm CDF to each element of the array \n",
    "            #------------------------------\n",
    "            # NB: I am using numpy.vectorize which is not \n",
    "            # the most efficient method but it avoids us\n",
    "            # using an explicit loop. The alternative was\n",
    "            # to use the built-in function from scipy \n",
    "            #(i.e. import scipy.stats)\n",
    "            X = self.S.dot(self.Z.T).T\n",
    "            U = norm_cdf_v(X)\n",
    "            \n",
    "        elif copula ==\"t\":\n",
    "            #  self.copula ==\"t\"\n",
    "            # Generate a 3D np.array: (N x nu x n Z-R.N)\n",
    "            # square the input and sum on the 1-axis\n",
    "            # i.e. if nu = 7, it will add 7 square - r.n\n",
    "            s = np.sum(np.random.normal(0,1,(self.N,nu, self.n_asset))**2, axis = 1)\n",
    "            s = np.sqrt(s/nu)\n",
    "            Y = self.Z/s\n",
    "            X = self.S.dot(Y.T).T\n",
    "            U = t_student_cdf(X, nu).reshape(self.N, self.n_asset)\n",
    "        \n",
    "        else:\n",
    "            print(\"copula method undefined.\")\n",
    "        \n",
    "        self.U = U\n",
    "    \n",
    "    \n",
    "    def _set_cholesky(self):\n",
    "        \"\"\"\n",
    "        Cholesky decomposition of correlation matrix\n",
    "        \"\"\"\n",
    "        self.S = cholesky(self.SIGMA)\n",
    "\n",
    "        \n",
    "    def _set_time_to_default(self):\n",
    "        ttd = np.zeros((self.n_asset, 0)) # time to default\n",
    "        ytd = np.zeros((self.n_asset, 0)) # year to default\n",
    "        for i in range(self.N):\n",
    "            temp = self._get_time_to_default(self.lambdas,\n",
    "                                        self.survivals, \n",
    "                                        self.U[i:i+1,:][0])\n",
    "            ttd = np.append(ttd, temp[0])\n",
    "            ytd = np.append(ytd, temp[1])\n",
    "            \n",
    "        \n",
    "        \n",
    "        self.exact_time_to_default = ttd.reshape(self.N, self.n_asset)\n",
    "        self.year_to_default = ytd.reshape(self.N, self.n_asset)\n",
    "        \n",
    "\n",
    "                \n",
    "    \n",
    "    \n",
    "    def _set_payment_legs(self, RR= 0.4):\n",
    "        premium_leg = np.zeros(self.n_asset, dtype = np.float)\n",
    "        default_leg = np.zeros(self.n_asset, dtype = np.float)\n",
    "        \n",
    "        for i in range(self.N):\n",
    "            \n",
    "            pl_, dl_ = self._legs_payments(self.exact_time_to_default[i],\n",
    "                                     self.year_to_default[i],\n",
    "                                     self.n_asset, RR)\n",
    "            \n",
    "            \n",
    "            premium_leg += pl_\n",
    "            default_leg += dl_\n",
    "    \n",
    "        spreads = np.array(default_leg)/np.array(premium_leg)\n",
    "        \n",
    "        self.spreads = spreads\n",
    "        \n",
    "        return spreads\n",
    "    \n",
    "    \n",
    "    @staticmethod\n",
    "    def _legs_payments(default_time,default_year,n_asset, RR = 0.4):\n",
    "        \"\"\"\n",
    "        Legs cash flow:\n",
    "        ------------------\n",
    "        input: \n",
    "        default_time: 5x1 array \n",
    "        default_year: 5x 1 array\n",
    "        -------------------\n",
    "        output: \n",
    "            Premium leg\n",
    "            Default leg\n",
    "        \"\"\"\n",
    "        \n",
    "        \n",
    "        mat= default_time.shape[0]\n",
    "        \n",
    "\n",
    "        # ignore if default time < 0.25 (quaterly)\n",
    "        for i in range(len(default_time)):\n",
    "            if default_time[i] <= 0.25: # quaterly\n",
    "                default_time[i]=9999\n",
    "\n",
    "        def_order=np.argsort(default_time) #gives index\n",
    "        \n",
    "        #number of default\n",
    "        n_defaults=len(default_year)-np.count_nonzero(default_year== 999)\n",
    "\n",
    "        \n",
    "        # array for default / premium leg\n",
    "        premium_leg=np.zeros(n_asset,dtype= np.float) # premium leg\n",
    "        default_leg=np.zeros(n_asset,dtype= np.float) # default leg\n",
    "\n",
    "\n",
    "\n",
    "        if n_defaults ==0:\n",
    "            for k in range(len(premium_leg)):\n",
    "                premium_leg[k]=zcb(mat)*mat\n",
    "                default_leg[k]=0\n",
    "        else:\n",
    "            premium_leg_1=0\n",
    "            tau_1=0\n",
    "            loss=0\n",
    "            for i in range(n_defaults):\n",
    "                     \n",
    "                tau=default_time[def_order[i]] # The ith default time\n",
    "\n",
    "\n",
    "                default_leg[i]=zcb(tau)*(1-RR)* (1/n_asset) # Assuming equal weight\n",
    "                premium_leg[i]=premium_leg_1+(1-loss)*zcb(tau)*(tau-tau_1) \n",
    "                loss+=(1/n_asset) # Assuming equal weight\n",
    "                premium_leg_1=premium_leg[i]\n",
    "                tau_1=tau\n",
    "            if  n_defaults < n_asset:\n",
    "                last_default_time=default_time[def_order[n_defaults-1]]\n",
    "                non_default_premium=zcb(mat)*(mat-last_default_time)*(1-loss)\n",
    "                for j in range(n_defaults,n_asset):\n",
    "                    premium_leg[j]=non_default_premium+premium_leg[n_defaults-1]\n",
    "                    default_leg[j]=0\n",
    "\n",
    "\n",
    "\n",
    "        return premium_leg,default_leg\n",
    "\n",
    "\n",
    "\n",
    "    @staticmethod\n",
    "    def _get_time_to_default(lambdas,survivals,u):\n",
    "\n",
    "        \"\"\"\n",
    "        1D version (simple)\n",
    "        \"\"\"\n",
    "\n",
    "        \n",
    "        T = 999 # if cds doesn't default within contract life (i.e. 5y)\n",
    "                # set an arbitrary large number (trick taken from A. Sehra paper)\n",
    "    \n",
    "        default_year=[] #\n",
    "        dt=[]\n",
    "\n",
    "        \n",
    "        for i in range(lambdas.shape[0]):\n",
    "            flag=0\n",
    "            \n",
    "            \n",
    "            for j in range(lambdas.shape[0]):\n",
    "\n",
    "                if np.abs(np.log(1-u[i])) < np.sum(lambdas[i,0:j+1]):\n",
    "                    default_year.append(j)\n",
    "                    flag=1\n",
    "                    break\n",
    "                    \n",
    "            if flag==0:\n",
    "                default_year.append(T)\n",
    "\n",
    "        for i in range(len(default_year)):\n",
    "            if default_year[i] == T:\n",
    "                dt.append(T)\n",
    "            \n",
    "            else:\n",
    "                dt.append((-1/lambdas[i][default_year[i]])*np.log((1-u[i])/(survivals[i][default_year[i]])))        \n",
    "\n",
    "        default_time=np.array(default_year)+np.array(dt)\n",
    "\n",
    "\n",
    "        return default_time,default_year\n",
    "    "
   ]
  },
  {
   "cell_type": "code",
   "execution_count": 240,
   "id": "4d8fe309",
   "metadata": {},
   "outputs": [
    {
     "data": {
      "text/plain": [
       "(10000,\n",
       " 10.056386232376099,\n",
       " array([5.30247491e-03, 1.35268448e-03, 4.30645774e-04, 1.36884910e-04,\n",
       "        3.96363995e-05]))"
      ]
     },
     "execution_count": 240,
     "metadata": {},
     "output_type": "execute_result"
    }
   ],
   "source": [
    "a = Basket(SIGMA_s, survivals[:,1:],lambdas[:,1:],10000)\n",
    "a.get_results(copula=\"g\", nu = 8, RR = 0.1)"
   ]
  },
  {
   "cell_type": "code",
   "execution_count": 434,
   "id": "9eced727",
   "metadata": {},
   "outputs": [
    {
     "name": "stdout",
     "output_type": "stream",
     "text": [
      "--- 4407.264467954636 seconds ---\n"
     ]
    }
   ],
   "source": [
    "start_time = time.time()\n",
    "\n",
    "temp = Basket(SIGMA_s, survivals[:,1:],lambdas[:,1:],600000)\n",
    "temp.set_copula(\"t\", 8)\n",
    "temp.set_time_to_default()\n",
    "temp.set_payment_legs()*10000\n",
    "\n",
    "print(\"--- %s seconds ---\" % (time.time() - start_time))"
   ]
  },
  {
   "cell_type": "markdown",
   "id": "baa804e8",
   "metadata": {},
   "source": [
    "It takes more than an hour to perform 600,000 simulations"
   ]
  },
  {
   "cell_type": "markdown",
   "id": "3b607ccf",
   "metadata": {},
   "source": [
    "# Monte Carlo"
   ]
  },
  {
   "cell_type": "code",
   "execution_count": null,
   "id": "42a149e4",
   "metadata": {},
   "outputs": [],
   "source": []
  },
  {
   "cell_type": "code",
   "execution_count": 174,
   "id": "3f70e2cb",
   "metadata": {},
   "outputs": [],
   "source": [
    "runtime_g= []\n",
    "spread_g = []\n",
    "simulation_g= []\n",
    "sim_list = [100, 1000,5000, 10000,15000, 25000,50000]\n",
    "sim_list2 = [100000]\n",
    "\n",
    "for i in sim_list:\n",
    "    mc = Basket(SIGMA_s, survivals[:,1:],lambdas[:,1:],i)\n",
    "    df1 = mc.get_results(copula = \"g\")\n",
    "    simulation_g.append(df1[0])\n",
    "    runtime_g.append(df1[1])\n",
    "    spread_g.append(df1[2])\n",
    "    \n"
   ]
  },
  {
   "cell_type": "code",
   "execution_count": 173,
   "id": "1fb51fde",
   "metadata": {},
   "outputs": [],
   "source": [
    "runtime_t = []\n",
    "spread_t = []\n",
    "simulation_t = []\n",
    "sim_list = [100, 1000, 5000, 10000, 15000, 25000, 50000]\n",
    "sim_list2 = [100000]\n",
    "for i in sim_list:\n",
    "    mc = Basket(SIGMA_s, survivals[:, 1:], lambdas[:, 1:], i)\n",
    "    df1 = mc.get_results(copula=\"t\", nu=8)\n",
    "    simulation_t.append(df1[0])\n",
    "    runtime_t.append(df1[1])\n",
    "    spread_t.append(df1[2])"
   ]
  },
  {
   "cell_type": "code",
   "execution_count": 175,
   "id": "82df4d97",
   "metadata": {},
   "outputs": [
    {
     "name": "stdout",
     "output_type": "stream",
     "text": [
      "DONE-==-=--=-=\n"
     ]
    }
   ],
   "source": [
    "print(\"DONE-==-=--=-=\")"
   ]
  },
  {
   "cell_type": "code",
   "execution_count": 118,
   "id": "a27a5408",
   "metadata": {},
   "outputs": [],
   "source": []
  },
  {
   "cell_type": "code",
   "execution_count": 141,
   "id": "3364d881",
   "metadata": {},
   "outputs": [
    {
     "data": {
      "image/png": "[encoded data removed]",
      "text/plain": [
       "<Figure size 432x288 with 1 Axes>"
      ]
     },
     "metadata": {
      "needs_background": "light"
     },
     "output_type": "display_data"
    }
   ],
   "source": [
    "for i in range(len(names)):\n",
    "    plt.plot(simulation_g, np.array(spread_g)[:,i], label = def_year[i])\n",
    "    plt.legend()\n",
    "#plt.savefig(path+\"survivals_probability.jpg\")"
   ]
  },
  {
   "cell_type": "code",
   "execution_count": 142,
   "id": "a194f7de",
   "metadata": {},
   "outputs": [
    {
     "data": {
      "image/png": "[encoded data removed]",
      "text/plain": [
       "<Figure size 432x288 with 1 Axes>"
      ]
     },
     "metadata": {
      "needs_background": "light"
     },
     "output_type": "display_data"
    }
   ],
   "source": [
    "for i in range(len(names)):\n",
    "    plt.plot(simulation_t, np.array(spread_t)[:,i], label = def_year[i])\n",
    "    plt.legend()\n",
    "#plt.savefig(path+\"survivals_probability.jpg\")"
   ]
  },
  {
   "cell_type": "code",
   "execution_count": 159,
   "id": "2ded4267",
   "metadata": {},
   "outputs": [
    {
     "data": {
      "image/png": "[encoded data removed]",
      "text/plain": [
       "<Figure size 432x288 with 1 Axes>"
      ]
     },
     "metadata": {
      "needs_background": "light"
     },
     "output_type": "display_data"
    }
   ],
   "source": [
    "i = 4\n",
    "plt.plot(simulation_g, np.array(spread_g)[:,i]*10000, label = \"Gaussian\")\n",
    "plt.plot(simulation_t, np.array(spread_t)[:,i]*10000, label = \"T-student\")\n",
    "plt.xlabel(\"Simulations\")\n",
    "plt.ylabel(\"Spreads (bps)\")\n",
    "plt.legend()\n",
    "plt.savefig(path + str(i+1)+\"_to_default.jpg\")"
   ]
  },
  {
   "cell_type": "code",
   "execution_count": 119,
   "id": "f757205b",
   "metadata": {},
   "outputs": [],
   "source": [
    "def table_spreads(spreadg, spreadt):\n",
    "    def_year= [\"1st\", \"2nd\", \"3rd\", \"4th\", \"5th\"]\n",
    "    return pd.DataFrame([spreadg[-1]*10000, spreadt[-1]*10000],\n",
    "                        index=[\"Gaussian\", \"t-studend\"], columns=def_year)"
   ]
  },
  {
   "cell_type": "code",
   "execution_count": 176,
   "id": "c80d43b1",
   "metadata": {},
   "outputs": [
    {
     "name": "stdout",
     "output_type": "stream",
     "text": [
      "\\begin{tabular}{lrrrrr}\n",
      "\\toprule\n",
      "{} &        1st &        2nd &       3rd &       4th &      5th \\\\\n",
      "\\midrule\n",
      "Gaussian  &  39.898659 &  10.450172 &  3.176316 &  1.046738 &  0.33840 \\\\\n",
      "t-studend &  45.734464 &  11.489605 &  3.812066 &  1.301085 &  0.41096 \\\\\n",
      "\\bottomrule\n",
      "\\end{tabular}\n",
      "\n"
     ]
    }
   ],
   "source": [
    "print(table_spreads(spread_g, spread_t).to_latex())"
   ]
  },
  {
   "cell_type": "code",
   "execution_count": 39,
   "id": "475598f0",
   "metadata": {},
   "outputs": [],
   "source": [
    "aaa = pd.DataFrame(columns=[\"1st\", \"2nd\", \"3rd\",\n",
    "                      \"4th\", \"5th\", \"simulation\", \"runtime\"])"
   ]
  },
  {
   "cell_type": "code",
   "execution_count": 113,
   "id": "553e81bf",
   "metadata": {},
   "outputs": [],
   "source": [
    "mc = Basket(SIGMA_s, survivals[:,1:],lambdas[:,1:],10000)"
   ]
  },
  {
   "cell_type": "code",
   "execution_count": 114,
   "id": "ebe05762",
   "metadata": {},
   "outputs": [
    {
     "data": {
      "text/plain": [
       "(10000,\n",
       " 9.549064636230469,\n",
       " array([4.77803936e-03, 1.12163240e-03, 3.85844631e-04, 1.37959866e-04,\n",
       "        4.50476670e-05]))"
      ]
     },
     "execution_count": 114,
     "metadata": {},
     "output_type": "execute_result"
    }
   ],
   "source": [
    "mc.get_results()"
   ]
  },
  {
   "cell_type": "code",
   "execution_count": 448,
   "id": "dc22f02d",
   "metadata": {},
   "outputs": [
    {
     "name": "stdout",
     "output_type": "stream",
     "text": [
      "--- 10.230647325515747 seconds ---\n"
     ]
    }
   ],
   "source": [
    "start_time = time.time()\n",
    "temp1 = Basket(SIGMA_s, survivals[:,1:],lambdas[:,1:],10000)\n",
    "temp1.set_copula(\"t\", 8)\n",
    "temp1.set_time_to_default()\n",
    "temp1.set_payment_legs()*10000\n",
    "\n",
    "print(\"--- %s seconds ---\" % (time.time() - start_time))"
   ]
  },
  {
   "cell_type": "code",
   "execution_count": 568,
   "id": "a395427d",
   "metadata": {},
   "outputs": [
    {
     "name": "stdout",
     "output_type": "stream",
     "text": [
      "\\begin{tabular}{lrrrrrr}\n",
      "\\toprule\n",
      "{} &    0 &         1 &         2 &         3 &         4 &         5 \\\\\n",
      "\\midrule\n",
      "0 &  0.0 &  0.011449 &  0.028807 &  0.046724 &  0.093833 &  0.131489 \\\\\n",
      "1 &  0.0 &  0.006398 &  0.013652 &  0.021074 &  0.033292 &  0.043728 \\\\\n",
      "2 &  0.0 &  0.006785 &  0.012798 &  0.018947 &  0.036013 &  0.048394 \\\\\n",
      "3 &  0.0 &  0.007462 &  0.018421 &  0.029665 &  0.054878 &  0.074830 \\\\\n",
      "4 &  0.0 &  0.005037 &  0.009333 &  0.013719 &  0.034144 &  0.047363 \\\\\n",
      "\\bottomrule\n",
      "\\end{tabular}\n",
      "\n"
     ]
    }
   ],
   "source": [
    "print(pd.DataFrame(lambdas).to_latex())"
   ]
  },
  {
   "cell_type": "markdown",
   "id": "357711c7",
   "metadata": {},
   "source": [
    "## Sensitive analysis"
   ]
  },
  {
   "cell_type": "code",
   "execution_count": null,
   "id": "4c18b7ac",
   "metadata": {},
   "outputs": [],
   "source": []
  },
  {
   "cell_type": "markdown",
   "id": "c28d1784",
   "metadata": {},
   "source": [
    "### Spread Shift"
   ]
  },
  {
   "cell_type": "code",
   "execution_count": 60,
   "id": "3966c649",
   "metadata": {},
   "outputs": [
    {
     "data": {
      "text/html": [
       "<div>\n",
       "<style scoped>\n",
       "    .dataframe tbody tr th:only-of-type {\n",
       "        vertical-align: middle;\n",
       "    }\n",
       "\n",
       "    .dataframe tbody tr th {\n",
       "        vertical-align: top;\n",
       "    }\n",
       "\n",
       "    .dataframe thead th {\n",
       "        text-align: right;\n",
       "    }\n",
       "</style>\n",
       "<table border=\"1\" class=\"dataframe\">\n",
       "  <thead>\n",
       "    <tr style=\"text-align: right;\">\n",
       "      <th></th>\n",
       "      <th>0.0</th>\n",
       "      <th>1.0</th>\n",
       "      <th>2.0</th>\n",
       "      <th>3.0</th>\n",
       "      <th>4.0</th>\n",
       "      <th>5.0</th>\n",
       "    </tr>\n",
       "  </thead>\n",
       "  <tbody>\n",
       "    <tr>\n",
       "      <th>AAL</th>\n",
       "      <td>0.0</td>\n",
       "      <td>69.09</td>\n",
       "      <td>120.720</td>\n",
       "      <td>172.35</td>\n",
       "      <td>262.375</td>\n",
       "      <td>352.40</td>\n",
       "    </tr>\n",
       "    <tr>\n",
       "      <th>ALLY</th>\n",
       "      <td>0.0</td>\n",
       "      <td>38.51</td>\n",
       "      <td>60.035</td>\n",
       "      <td>81.56</td>\n",
       "      <td>109.500</td>\n",
       "      <td>137.44</td>\n",
       "    </tr>\n",
       "    <tr>\n",
       "      <th>AMD</th>\n",
       "      <td>0.0</td>\n",
       "      <td>40.85</td>\n",
       "      <td>58.695</td>\n",
       "      <td>76.54</td>\n",
       "      <td>109.495</td>\n",
       "      <td>142.45</td>\n",
       "    </tr>\n",
       "    <tr>\n",
       "      <th>AMKR</th>\n",
       "      <td>0.0</td>\n",
       "      <td>44.94</td>\n",
       "      <td>77.475</td>\n",
       "      <td>110.01</td>\n",
       "      <td>161.355</td>\n",
       "      <td>212.70</td>\n",
       "    </tr>\n",
       "    <tr>\n",
       "      <th>F</th>\n",
       "      <td>0.0</td>\n",
       "      <td>30.30</td>\n",
       "      <td>43.040</td>\n",
       "      <td>55.78</td>\n",
       "      <td>91.015</td>\n",
       "      <td>126.25</td>\n",
       "    </tr>\n",
       "  </tbody>\n",
       "</table>\n",
       "</div>"
      ],
      "text/plain": [
       "      0.0    1.0      2.0     3.0      4.0     5.0\n",
       "AAL   0.0  69.09  120.720  172.35  262.375  352.40\n",
       "ALLY  0.0  38.51   60.035   81.56  109.500  137.44\n",
       "AMD   0.0  40.85   58.695   76.54  109.495  142.45\n",
       "AMKR  0.0  44.94   77.475  110.01  161.355  212.70\n",
       "F     0.0  30.30   43.040   55.78   91.015  126.25"
      ]
     },
     "execution_count": 60,
     "metadata": {},
     "output_type": "execute_result"
    }
   ],
   "source": [
    "cds_spread"
   ]
  },
  {
   "cell_type": "code",
   "execution_count": 161,
   "id": "a2a11b70",
   "metadata": {},
   "outputs": [
    {
     "data": {
      "text/plain": [
       "1.0     69.090\n",
       "2.0    120.720\n",
       "3.0    172.350\n",
       "4.0    262.375\n",
       "5.0    352.400\n",
       "Name: AAL, dtype: float64"
      ]
     },
     "execution_count": 161,
     "metadata": {},
     "output_type": "execute_result"
    }
   ],
   "source": [
    "cds_spread.iloc[0,1:]"
   ]
  },
  {
   "cell_type": "code",
   "execution_count": 326,
   "id": "93606d89",
   "metadata": {},
   "outputs": [],
   "source": [
    "recovery=0.75"
   ]
  },
  {
   "cell_type": "code",
   "execution_count": 327,
   "id": "deff9d9d",
   "metadata": {},
   "outputs": [],
   "source": [
    "cds_copy = cds_spread.copy()\n",
    "#cds_copy.iloc[:,1:] = cds_spread.iloc[:,1:]+k\n",
    "#cds_copy"
   ]
  },
  {
   "cell_type": "code",
   "execution_count": 328,
   "id": "f116fdc6",
   "metadata": {},
   "outputs": [],
   "source": [
    "\n",
    "# Create a dictionnary:\n",
    "basket_data = {}\n",
    "for name in names:\n",
    "    surv = []\n",
    "    lbd = []\n",
    "    cds = cds_copy.loc[name,:]\n",
    "    surv, lbd = probability(mat, cds, discount_factor, recovery)\n",
    "    basket_data[name] = np.array([mat, surv, lbd])"
   ]
  },
  {
   "cell_type": "code",
   "execution_count": 329,
   "id": "ac27bd65",
   "metadata": {},
   "outputs": [],
   "source": [
    "mats = []\n",
    "lambdas = []\n",
    "survivals = []\n",
    "for i in basket_data:\n",
    "    mats.append(basket_data[i][0][:6])\n",
    "    survivals.append(basket_data[i][1][:6])\n",
    "    lambdas.append(basket_data[i][2][:6])\n",
    "mats = np.array(mats, dtype = np.float)\n",
    "survivals = np.array(survivals, dtype = np.float)\n",
    "lambdas = np.array(lambdas, dtype = np.float)"
   ]
  },
  {
   "cell_type": "code",
   "execution_count": 330,
   "id": "af97c031",
   "metadata": {},
   "outputs": [
    {
     "data": {
      "text/plain": [
       "(25000,\n",
       " 30.12312150001526,\n",
       " array([2.05070934e-03, 4.87863099e-04, 1.69691502e-04, 6.00121745e-05,\n",
       "        2.31265178e-05]))"
      ]
     },
     "execution_count": 330,
     "metadata": {},
     "output_type": "execute_result"
    }
   ],
   "source": [
    "a = Basket(SIGMA_s, survivals[:,1:],lambdas[:,1:],25000)\n",
    "a.get_results(copula=\"g\", nu = 8, RR=recovery)\n",
    "\n",
    "b = Basket(SIGMA_s, survivals[:,1:],lambdas[:,1:],25000)\n",
    "b.get_results(copula=\"t\", nu = 8, RR=recovery)"
   ]
  },
  {
   "cell_type": "markdown",
   "id": "6cfbfd72",
   "metadata": {},
   "source": [
    "delta_cds = []\n",
    "result_g = []\n",
    "result_t = []"
   ]
  },
  {
   "cell_type": "code",
   "execution_count": 331,
   "id": "22f831aa",
   "metadata": {},
   "outputs": [],
   "source": [
    "delta_cds.append(recovery)\n",
    "result_g.append(a.spreads)\n",
    "result_t.append(b.spreads)"
   ]
  },
  {
   "cell_type": "code",
   "execution_count": 332,
   "id": "9c908aa0",
   "metadata": {},
   "outputs": [
    {
     "data": {
      "text/plain": [
       "[0, 0.25, 0.5, 0.75, 1.0, 0.75]"
      ]
     },
     "execution_count": 332,
     "metadata": {},
     "output_type": "execute_result"
    }
   ],
   "source": [
    "delta_cds"
   ]
  },
  {
   "cell_type": "code",
   "execution_count": 333,
   "id": "057a6f39",
   "metadata": {},
   "outputs": [
    {
     "data": {
      "text/plain": [
       "[array([5.39363489e-03, 1.53815894e-03, 5.50141358e-04, 1.82909280e-04,\n",
       "        5.86345070e-05]),\n",
       " array([6.15413458e-03, 1.35316904e-03, 4.71788254e-04, 1.54826355e-04,\n",
       "        5.02425264e-05]),\n",
       " array([3.95963012e-03, 1.10102191e-03, 3.50050221e-04, 1.14195431e-04,\n",
       "        3.75098738e-05]),\n",
       " array([1.99623021e-03, 5.04296413e-04, 1.78004243e-04, 6.28834718e-05,\n",
       "        2.32355761e-05]),\n",
       " array([nan, nan, nan, nan, nan]),\n",
       " array([2.05070934e-03, 4.87863099e-04, 1.69691502e-04, 6.00121745e-05,\n",
       "        2.31265178e-05])]"
      ]
     },
     "execution_count": 333,
     "metadata": {},
     "output_type": "execute_result"
    }
   ],
   "source": [
    "result_t"
   ]
  },
  {
   "cell_type": "code",
   "execution_count": 334,
   "id": "a4e7f7ad",
   "metadata": {},
   "outputs": [
    {
     "name": "stdout",
     "output_type": "stream",
     "text": [
      "\\begin{tabular}{lrrrrr}\n",
      "\\toprule\n",
      "{} &        1st &       2nd &       3rd &       4th &       5th \\\\\n",
      "\\midrule\n",
      "Gaussian  &  26.723925 &  5.258950 &  1.611037 &  0.558953 &  0.210419 \\\\\n",
      "t-studend &  20.507093 &  4.878631 &  1.696915 &  0.600122 &  0.231265 \\\\\n",
      "\\bottomrule\n",
      "\\end{tabular}\n",
      "\n"
     ]
    }
   ],
   "source": [
    "n =-1\n",
    "tbl = pd.DataFrame([result_g[n]*10000, result_t[n]*10000] , index=[\"Gaussian\", \"t-studend\"], columns=def_year)\n",
    "#tbl.index.name = \"$\\Delta$\"+str(delta_cds[n])\n",
    "print(tbl.to_latex())"
   ]
  },
  {
   "cell_type": "code",
   "execution_count": 342,
   "id": "698a4d00",
   "metadata": {},
   "outputs": [
    {
     "data": {
      "image/png": "[encoded data removed]",
      "text/plain": [
       "<Figure size 432x288 with 1 Axes>"
      ]
     },
     "metadata": {
      "needs_background": "light"
     },
     "output_type": "display_data"
    }
   ],
   "source": [
    "i = 3\n",
    "plt.plot(delta_cds, np.array(result_g)[:,i]*10000, label = \"Gaussian\")\n",
    "plt.plot(delta_cds, np.array(result_t)[:,i]*10000, label = \"T-student\")\n",
    "plt.xlabel(\"Change in Recovery Rate\")\n",
    "plt.ylabel(\"Spreads (bps)\")\n",
    "plt.legend()\n",
    "plt.savefig(path + str(i+1)+\"_recovery_rate.jpg\")"
   ]
  },
  {
   "cell_type": "code",
   "execution_count": 337,
   "id": "21e4dcec",
   "metadata": {},
   "outputs": [
    {
     "data": {
      "text/plain": [
       "array([0.00574428, 0.00463142, 0.00347534, 0.00289927,        nan,\n",
       "       0.00267239])"
      ]
     },
     "execution_count": 337,
     "metadata": {},
     "output_type": "execute_result"
    }
   ],
   "source": [
    "np.array(result_g)[:,0]"
   ]
  },
  {
   "cell_type": "code",
   "execution_count": 338,
   "id": "8665fb37",
   "metadata": {},
   "outputs": [
    {
     "data": {
      "text/plain": [
       "[array([5.74427812e-03, 1.41978307e-03, 4.50687824e-04, 1.36362692e-04,\n",
       "        4.33824125e-05]),\n",
       " array([4.63142488e-03, 1.34426044e-03, 4.01274233e-04, 1.32041202e-04,\n",
       "        3.94368875e-05]),\n",
       " array([3.47533899e-03, 8.36082856e-04, 2.56643986e-04, 8.61528628e-05,\n",
       "        3.04274667e-05]),\n",
       " array([2.89926684e-03, 5.61650939e-04, 1.63377338e-04, 5.72973961e-05,\n",
       "        2.09837990e-05]),\n",
       " array([nan, nan, nan, nan, nan]),\n",
       " array([2.67239250e-03, 5.25894991e-04, 1.61103713e-04, 5.58952921e-05,\n",
       "        2.10419238e-05])]"
      ]
     },
     "execution_count": 338,
     "metadata": {},
     "output_type": "execute_result"
    }
   ],
   "source": [
    "result_g"
   ]
  },
  {
   "cell_type": "code",
   "execution_count": 186,
   "id": "cd2934c8",
   "metadata": {},
   "outputs": [
    {
     "data": {
      "text/plain": [
       "0.0    100.000\n",
       "1.0    169.090\n",
       "2.0    220.720\n",
       "3.0    272.350\n",
       "4.0    362.375\n",
       "5.0    452.400\n",
       "Name: AAL, dtype: float64"
      ]
     },
     "execution_count": 186,
     "metadata": {},
     "output_type": "execute_result"
    }
   ],
   "source": [
    "cds_spread_1.iloc[0,:]+100"
   ]
  },
  {
   "cell_type": "code",
   "execution_count": null,
   "id": "106e346d",
   "metadata": {},
   "outputs": [],
   "source": []
  },
  {
   "cell_type": "code",
   "execution_count": 52,
   "id": "2b8a084d",
   "metadata": {},
   "outputs": [],
   "source": []
  },
  {
   "cell_type": "code",
   "execution_count": 53,
   "id": "52286075",
   "metadata": {},
   "outputs": [],
   "source": []
  },
  {
   "cell_type": "code",
   "execution_count": null,
   "id": "93c8c5a9",
   "metadata": {},
   "outputs": [],
   "source": []
  },
  {
   "cell_type": "markdown",
   "id": "34166df1",
   "metadata": {},
   "source": [
    "# Plot"
   ]
  },
  {
   "cell_type": "markdown",
   "id": "fb80c72e",
   "metadata": {},
   "source": [
    "## survivals probability plot"
   ]
  },
  {
   "cell_type": "code",
   "execution_count": null,
   "id": "049e67fc",
   "metadata": {},
   "outputs": [],
   "source": []
  },
  {
   "cell_type": "code",
   "execution_count": 110,
   "id": "554a4199",
   "metadata": {},
   "outputs": [
    {
     "data": {
      "image/png": "[encoded data removed]",
      "text/plain": [
       "<Figure size 432x288 with 1 Axes>"
      ]
     },
     "metadata": {
      "needs_background": "light"
     },
     "output_type": "display_data"
    }
   ],
   "source": [
    "for i in range(survivals.shape[0]):\n",
    "    plt.plot(np.arange(0,6,1), survivals[i], label = names[i])\n",
    "    plt.legend()\n",
    "plt.savefig(path+\"survivals_probability.jpg\")"
   ]
  },
  {
   "cell_type": "code",
   "execution_count": null,
   "id": "39e96a68",
   "metadata": {},
   "outputs": [],
   "source": [
    "print(pd.DataFrame(survivals[:,1:], columns=names).T.to_latex())"
   ]
  },
  {
   "cell_type": "markdown",
   "id": "46906a10",
   "metadata": {},
   "source": [
    "## Hazard Rate plot"
   ]
  },
  {
   "cell_type": "code",
   "execution_count": 109,
   "id": "6007503f",
   "metadata": {},
   "outputs": [
    {
     "data": {
      "image/png": "[encoded data removed]",
      "text/plain": [
       "<Figure size 432x288 with 1 Axes>"
      ]
     },
     "metadata": {
      "needs_background": "light"
     },
     "output_type": "display_data"
    }
   ],
   "source": [
    "for i in range(lambdas.shape[0]):\n",
    "    plt.step(np.arange(0,6,1), lambdas[i], label = names[i])\n",
    "    plt.legend()\n",
    "plt.savefig(path+\"Hazard_rate.jpg\")"
   ]
  },
  {
   "cell_type": "code",
   "execution_count": 111,
   "id": "ad122135",
   "metadata": {},
   "outputs": [
    {
     "name": "stdout",
     "output_type": "stream",
     "text": [
      "\\begin{tabular}{lrrrrr}\n",
      "\\toprule\n",
      "{} &         0 &         1 &         2 &         3 &         4 \\\\\n",
      "\\midrule\n",
      "AAL  &  0.011449 &  0.006398 &  0.006785 &  0.007462 &  0.005037 \\\\\n",
      "ALLY &  0.028807 &  0.013652 &  0.012798 &  0.018421 &  0.009333 \\\\\n",
      "AMD  &  0.046724 &  0.021074 &  0.018947 &  0.029665 &  0.013719 \\\\\n",
      "AMKR &  0.093833 &  0.033292 &  0.036013 &  0.054878 &  0.034144 \\\\\n",
      "F    &  0.131489 &  0.043728 &  0.048394 &  0.074830 &  0.047363 \\\\\n",
      "\\bottomrule\n",
      "\\end{tabular}\n",
      "\n"
     ]
    }
   ],
   "source": [
    "print(pd.DataFrame(lambdas[:,1:], columns=names).T.to_latex())"
   ]
  },
  {
   "cell_type": "code",
   "execution_count": null,
   "id": "5d552d54",
   "metadata": {},
   "outputs": [],
   "source": []
  },
  {
   "cell_type": "code",
   "execution_count": null,
   "id": "1ac8b7aa",
   "metadata": {},
   "outputs": [],
   "source": []
  }
 ],
 "metadata": {
  "kernelspec": {
   "display_name": "Python 3",
   "language": "python",
   "name": "python3"
  },
  "language_info": {
   "codemirror_mode": {
    "name": "ipython",
    "version": 3
   },
   "file_extension": ".py",
   "mimetype": "text/x-python",
   "name": "python",
   "nbconvert_exporter": "python",
   "pygments_lexer": "ipython3",
   "version": "3.8.8"
  },
  "toc": {
   "base_numbering": 1,
   "nav_menu": {},
   "number_sections": true,
   "sideBar": true,
   "skip_h1_title": false,
   "title_cell": "Table of Contents",
   "title_sidebar": "Contents",
   "toc_cell": false,
   "toc_position": {
    "height": "calc(100% - 180px)",
    "left": "10px",
    "top": "150px",
    "width": "212.875px"
   },
   "toc_section_display": true,
   "toc_window_display": true
  },
  "varInspector": {
   "cols": {
    "lenName": 16,
    "lenType": 16,
    "lenVar": 40
   },
   "kernels_config": {
    "python": {
     "delete_cmd_postfix": "",
     "delete_cmd_prefix": "del ",
     "library": "var_list.py",
     "varRefreshCmd": "print(var_dic_list())"
    },
    "r": {
     "delete_cmd_postfix": ") ",
     "delete_cmd_prefix": "rm(",
     "library": "var_list.r",
     "varRefreshCmd": "cat(var_dic_list()) "
    }
   },
   "types_to_exclude": [
    "module",
    "function",
    "builtin_function_or_method",
    "instance",
    "_Feature"
   ],
   "window_display": false
  }
 },
 "nbformat": 4,
 "nbformat_minor": 5
}
